{
 "cells": [
  {
   "cell_type": "markdown",
   "id": "6d6fba00",
   "metadata": {},
   "source": [
    "# Анализ сервиса аренды самокатов GoFast\n",
    "\n",
    "**Цель исследования:**\n",
    "\n",
    "1. Тратят ли пользователи с подпиской больше времени на поездки?\n",
    "2. Можно ли сказать, что расстояние, которое проезжают пользователи с подпиской за одну поездку, не превышает 3130 метров?\n",
    "3. Будет ли помесячная выручка от пользователей с подпиской по месяцам выше, чем выручка от пользователей без подписки?\n",
    "\n",
    "**Ход исследования:**\n",
    "\n",
    "Чтобы совершать поездки по городу, пользователи сервиса GoFast пользуются мобильным приложением. Сервисом можно пользоваться:\n",
    "\n",
    "без подписки\n",
    "- абонентская плата отсутствует;\n",
    "- стоимость одной минуты поездки — 8 рублей;\n",
    "- стоимость старта (начала поездки) — 50 рублей;\n",
    "\n",
    "с подпиской Ultra\n",
    "- абонентская плата — 199 рублей в месяц;\n",
    "- стоимость одной минуты поездки — 6 рублей;\n",
    "- стоимость старта — бесплатно.\n",
    "\n",
    "*Описание данных*\n",
    "\n",
    "Пользователи — `users_go.csv`\n",
    "\n",
    "- user_id — уникальный идентификатор пользователя\n",
    "- name — имя пользователя\n",
    "- age — возраст\n",
    "- city — город\n",
    "- subscription_type — тип подписки (free, ultra)\n",
    "\n",
    "Поeздки — `rides_go.csv`\n",
    "\n",
    "- user_id — уникальный идентификатор пользователя\n",
    "- distance — расстояние, которое пользователь проехал в текущей сессии (в метрах)\n",
    "- duration — продолжительность сессии (в минутах) — время с того момента, как пользователь нажал кнопку «Начать поездку» до момента, как он нажал кнопку «Завершить поездку»\n",
    "- date — дата совершения поездки\n",
    "\n",
    "Подписки — `subscriptions_go.csv`\n",
    "\n",
    "- subscription_type — тип подписки\n",
    "- minute_price — стоимость одной минуты поездки по данной подписке\n",
    "- start_ride_price — стоимость начала поездки\n",
    "- subscription_fee — стоимость ежемесячного платежа\n",
    "\n",
    "Исследование пройдёт в 7 этапов:\n",
    "\n",
    "1. Загрузка данных.\n",
    "2. Предобработка данных.\n",
    "3. Исследовательский анализ данных.\n",
    "4. Объединение данных.\n",
    "5. Подсчёт выручки.\n",
    "6. Проверка гипотез.\n",
    "7. Общие выводы."
   ]
  },
  {
   "cell_type": "markdown",
   "id": "c42cbe00",
   "metadata": {},
   "source": [
    "### 1. Загрузка данных"
   ]
  },
  {
   "cell_type": "code",
   "execution_count": 1,
   "id": "662d9fed",
   "metadata": {},
   "outputs": [],
   "source": [
    "import pandas as pd\n",
    "import matplotlib.pyplot as plt\n",
    "import numpy as np\n",
    "from scipy import stats as st\n",
    "import seaborn as sns"
   ]
  },
  {
   "cell_type": "markdown",
   "id": "36a74042",
   "metadata": {},
   "source": [
    "#### Загрузка данных по пользователям"
   ]
  },
  {
   "cell_type": "code",
   "execution_count": 2,
   "id": "eff9f206",
   "metadata": {},
   "outputs": [],
   "source": [
    "# чтение файла с данными и сохранение в data_users\n",
    "try:\n",
    "    data_users = pd.read_csv('/datasets/users_go.csv', sep=',')\n",
    "except: \n",
    "    data_users = pd.read_csv('https://code.s3.yandex.net/datasets/users_go.csv', sep=',')"
   ]
  },
  {
   "cell_type": "code",
   "execution_count": 3,
   "id": "9686192a",
   "metadata": {},
   "outputs": [
    {
     "data": {
      "text/html": [
       "<div>\n",
       "<style scoped>\n",
       "    .dataframe tbody tr th:only-of-type {\n",
       "        vertical-align: middle;\n",
       "    }\n",
       "\n",
       "    .dataframe tbody tr th {\n",
       "        vertical-align: top;\n",
       "    }\n",
       "\n",
       "    .dataframe thead th {\n",
       "        text-align: right;\n",
       "    }\n",
       "</style>\n",
       "<table border=\"1\" class=\"dataframe\">\n",
       "  <thead>\n",
       "    <tr style=\"text-align: right;\">\n",
       "      <th></th>\n",
       "      <th>user_id</th>\n",
       "      <th>name</th>\n",
       "      <th>age</th>\n",
       "      <th>city</th>\n",
       "      <th>subscription_type</th>\n",
       "    </tr>\n",
       "  </thead>\n",
       "  <tbody>\n",
       "    <tr>\n",
       "      <th>0</th>\n",
       "      <td>1</td>\n",
       "      <td>Кира</td>\n",
       "      <td>22</td>\n",
       "      <td>Тюмень</td>\n",
       "      <td>ultra</td>\n",
       "    </tr>\n",
       "    <tr>\n",
       "      <th>1</th>\n",
       "      <td>2</td>\n",
       "      <td>Станислав</td>\n",
       "      <td>31</td>\n",
       "      <td>Омск</td>\n",
       "      <td>ultra</td>\n",
       "    </tr>\n",
       "    <tr>\n",
       "      <th>2</th>\n",
       "      <td>3</td>\n",
       "      <td>Алексей</td>\n",
       "      <td>20</td>\n",
       "      <td>Москва</td>\n",
       "      <td>ultra</td>\n",
       "    </tr>\n",
       "    <tr>\n",
       "      <th>3</th>\n",
       "      <td>4</td>\n",
       "      <td>Константин</td>\n",
       "      <td>26</td>\n",
       "      <td>Ростов-на-Дону</td>\n",
       "      <td>ultra</td>\n",
       "    </tr>\n",
       "    <tr>\n",
       "      <th>4</th>\n",
       "      <td>5</td>\n",
       "      <td>Адель</td>\n",
       "      <td>28</td>\n",
       "      <td>Омск</td>\n",
       "      <td>ultra</td>\n",
       "    </tr>\n",
       "    <tr>\n",
       "      <th>5</th>\n",
       "      <td>6</td>\n",
       "      <td>Регина</td>\n",
       "      <td>25</td>\n",
       "      <td>Краснодар</td>\n",
       "      <td>ultra</td>\n",
       "    </tr>\n",
       "    <tr>\n",
       "      <th>6</th>\n",
       "      <td>7</td>\n",
       "      <td>Игорь</td>\n",
       "      <td>23</td>\n",
       "      <td>Омск</td>\n",
       "      <td>ultra</td>\n",
       "    </tr>\n",
       "    <tr>\n",
       "      <th>7</th>\n",
       "      <td>8</td>\n",
       "      <td>Юрий</td>\n",
       "      <td>23</td>\n",
       "      <td>Краснодар</td>\n",
       "      <td>ultra</td>\n",
       "    </tr>\n",
       "    <tr>\n",
       "      <th>8</th>\n",
       "      <td>9</td>\n",
       "      <td>Ян</td>\n",
       "      <td>21</td>\n",
       "      <td>Пятигорск</td>\n",
       "      <td>ultra</td>\n",
       "    </tr>\n",
       "    <tr>\n",
       "      <th>9</th>\n",
       "      <td>10</td>\n",
       "      <td>Валерий</td>\n",
       "      <td>18</td>\n",
       "      <td>Екатеринбург</td>\n",
       "      <td>ultra</td>\n",
       "    </tr>\n",
       "  </tbody>\n",
       "</table>\n",
       "</div>"
      ],
      "text/plain": [
       "   user_id        name  age            city subscription_type\n",
       "0        1        Кира   22          Тюмень             ultra\n",
       "1        2   Станислав   31            Омск             ultra\n",
       "2        3     Алексей   20          Москва             ultra\n",
       "3        4  Константин   26  Ростов-на-Дону             ultra\n",
       "4        5       Адель   28            Омск             ultra\n",
       "5        6      Регина   25       Краснодар             ultra\n",
       "6        7       Игорь   23            Омск             ultra\n",
       "7        8        Юрий   23       Краснодар             ultra\n",
       "8        9          Ян   21       Пятигорск             ultra\n",
       "9       10     Валерий   18    Екатеринбург             ultra"
      ]
     },
     "execution_count": 3,
     "metadata": {},
     "output_type": "execute_result"
    }
   ],
   "source": [
    "# получение первых 10 строк таблицы data_users\n",
    "data_users.head(10)"
   ]
  },
  {
   "cell_type": "code",
   "execution_count": 4,
   "id": "c51b5865",
   "metadata": {},
   "outputs": [
    {
     "data": {
      "image/png": "[encoded data removed]",
      "text/plain": [
       "<Figure size 720x288 with 2 Axes>"
      ]
     },
     "metadata": {
      "needs_background": "light"
     },
     "output_type": "display_data"
    }
   ],
   "source": [
    "# гистораммы датасета\n",
    "data_users.hist(figsize=(10, 4))\n",
    "plt.show()"
   ]
  },
  {
   "cell_type": "code",
   "execution_count": 5,
   "id": "7d479ebc",
   "metadata": {},
   "outputs": [
    {
     "name": "stdout",
     "output_type": "stream",
     "text": [
      "<class 'pandas.core.frame.DataFrame'>\n",
      "RangeIndex: 1565 entries, 0 to 1564\n",
      "Data columns (total 5 columns):\n",
      " #   Column             Non-Null Count  Dtype \n",
      "---  ------             --------------  ----- \n",
      " 0   user_id            1565 non-null   int64 \n",
      " 1   name               1565 non-null   object\n",
      " 2   age                1565 non-null   int64 \n",
      " 3   city               1565 non-null   object\n",
      " 4   subscription_type  1565 non-null   object\n",
      "dtypes: int64(2), object(3)\n",
      "memory usage: 61.3+ KB\n"
     ]
    }
   ],
   "source": [
    "# получение общей информации о данных в таблице data_users\n",
    "data_users.info()"
   ]
  },
  {
   "cell_type": "markdown",
   "id": "2a1aad10",
   "metadata": {},
   "source": [
    "Описание данных— `users_go.csv`, dtypes: int64(2), object(3)\n",
    "\n",
    "- `user_id` — уникальный идентификатор пользователя\n",
    "- `name` — имя пользователя\n",
    "- `age` — возраст\n",
    "- `city` — город\n",
    "- `subscription_type` — тип подписки (free, ultra)"
   ]
  },
  {
   "cell_type": "markdown",
   "id": "f16c872a",
   "metadata": {},
   "source": [
    "#### Загрузка данных по поездкам"
   ]
  },
  {
   "cell_type": "code",
   "execution_count": 6,
   "id": "3e96fb3f",
   "metadata": {},
   "outputs": [],
   "source": [
    "# чтение файла с данными и сохранение в data_rides\n",
    "try:\n",
    "    data_rides = pd.read_csv('/datasets/rides_go.csv', sep=',')\n",
    "except: \n",
    "    data_rides = pd.read_csv('https://code.s3.yandex.net/datasets/rides_go.csv', sep=',')"
   ]
  },
  {
   "cell_type": "code",
   "execution_count": 7,
   "id": "f380d844",
   "metadata": {},
   "outputs": [
    {
     "data": {
      "text/html": [
       "<div>\n",
       "<style scoped>\n",
       "    .dataframe tbody tr th:only-of-type {\n",
       "        vertical-align: middle;\n",
       "    }\n",
       "\n",
       "    .dataframe tbody tr th {\n",
       "        vertical-align: top;\n",
       "    }\n",
       "\n",
       "    .dataframe thead th {\n",
       "        text-align: right;\n",
       "    }\n",
       "</style>\n",
       "<table border=\"1\" class=\"dataframe\">\n",
       "  <thead>\n",
       "    <tr style=\"text-align: right;\">\n",
       "      <th></th>\n",
       "      <th>user_id</th>\n",
       "      <th>distance</th>\n",
       "      <th>duration</th>\n",
       "      <th>date</th>\n",
       "    </tr>\n",
       "  </thead>\n",
       "  <tbody>\n",
       "    <tr>\n",
       "      <th>0</th>\n",
       "      <td>1</td>\n",
       "      <td>4409.919140</td>\n",
       "      <td>25.599769</td>\n",
       "      <td>2021-01-01</td>\n",
       "    </tr>\n",
       "    <tr>\n",
       "      <th>1</th>\n",
       "      <td>1</td>\n",
       "      <td>2617.592153</td>\n",
       "      <td>15.816871</td>\n",
       "      <td>2021-01-18</td>\n",
       "    </tr>\n",
       "    <tr>\n",
       "      <th>2</th>\n",
       "      <td>1</td>\n",
       "      <td>754.159807</td>\n",
       "      <td>6.232113</td>\n",
       "      <td>2021-04-20</td>\n",
       "    </tr>\n",
       "    <tr>\n",
       "      <th>3</th>\n",
       "      <td>1</td>\n",
       "      <td>2694.783254</td>\n",
       "      <td>18.511000</td>\n",
       "      <td>2021-08-11</td>\n",
       "    </tr>\n",
       "    <tr>\n",
       "      <th>4</th>\n",
       "      <td>1</td>\n",
       "      <td>4028.687306</td>\n",
       "      <td>26.265803</td>\n",
       "      <td>2021-08-28</td>\n",
       "    </tr>\n",
       "    <tr>\n",
       "      <th>5</th>\n",
       "      <td>1</td>\n",
       "      <td>2770.890808</td>\n",
       "      <td>16.650138</td>\n",
       "      <td>2021-10-09</td>\n",
       "    </tr>\n",
       "    <tr>\n",
       "      <th>6</th>\n",
       "      <td>1</td>\n",
       "      <td>3039.020292</td>\n",
       "      <td>14.927879</td>\n",
       "      <td>2021-10-19</td>\n",
       "    </tr>\n",
       "    <tr>\n",
       "      <th>7</th>\n",
       "      <td>1</td>\n",
       "      <td>2842.118050</td>\n",
       "      <td>23.117468</td>\n",
       "      <td>2021-11-06</td>\n",
       "    </tr>\n",
       "    <tr>\n",
       "      <th>8</th>\n",
       "      <td>1</td>\n",
       "      <td>3412.690668</td>\n",
       "      <td>15.238072</td>\n",
       "      <td>2021-11-14</td>\n",
       "    </tr>\n",
       "    <tr>\n",
       "      <th>9</th>\n",
       "      <td>1</td>\n",
       "      <td>748.690645</td>\n",
       "      <td>15.041884</td>\n",
       "      <td>2021-11-22</td>\n",
       "    </tr>\n",
       "  </tbody>\n",
       "</table>\n",
       "</div>"
      ],
      "text/plain": [
       "   user_id     distance   duration        date\n",
       "0        1  4409.919140  25.599769  2021-01-01\n",
       "1        1  2617.592153  15.816871  2021-01-18\n",
       "2        1   754.159807   6.232113  2021-04-20\n",
       "3        1  2694.783254  18.511000  2021-08-11\n",
       "4        1  4028.687306  26.265803  2021-08-28\n",
       "5        1  2770.890808  16.650138  2021-10-09\n",
       "6        1  3039.020292  14.927879  2021-10-19\n",
       "7        1  2842.118050  23.117468  2021-11-06\n",
       "8        1  3412.690668  15.238072  2021-11-14\n",
       "9        1   748.690645  15.041884  2021-11-22"
      ]
     },
     "execution_count": 7,
     "metadata": {},
     "output_type": "execute_result"
    }
   ],
   "source": [
    "# получение первых 10 строк таблицы data_rides\n",
    "data_rides.head(10)"
   ]
  },
  {
   "cell_type": "code",
   "execution_count": 8,
   "id": "57fe4379",
   "metadata": {},
   "outputs": [
    {
     "data": {
      "image/png": "[encoded data removed]",
      "text/plain": [
       "<Figure size 720x288 with 4 Axes>"
      ]
     },
     "metadata": {
      "needs_background": "light"
     },
     "output_type": "display_data"
    }
   ],
   "source": [
    "# гистораммы датасета\n",
    "data_rides.hist(figsize=(10, 4))\n",
    "plt.show()"
   ]
  },
  {
   "cell_type": "code",
   "execution_count": 9,
   "id": "13f5c548",
   "metadata": {},
   "outputs": [
    {
     "name": "stdout",
     "output_type": "stream",
     "text": [
      "<class 'pandas.core.frame.DataFrame'>\n",
      "RangeIndex: 18068 entries, 0 to 18067\n",
      "Data columns (total 4 columns):\n",
      " #   Column    Non-Null Count  Dtype  \n",
      "---  ------    --------------  -----  \n",
      " 0   user_id   18068 non-null  int64  \n",
      " 1   distance  18068 non-null  float64\n",
      " 2   duration  18068 non-null  float64\n",
      " 3   date      18068 non-null  object \n",
      "dtypes: float64(2), int64(1), object(1)\n",
      "memory usage: 564.8+ KB\n"
     ]
    }
   ],
   "source": [
    "# получение общей информации о данных в таблице data_rides\n",
    "data_rides.info()"
   ]
  },
  {
   "cell_type": "markdown",
   "id": "1950d39f",
   "metadata": {},
   "source": [
    "Описание данных — `rides_go.csv`, dtypes: float64(2), int64(1), object(1)\n",
    "\n",
    "- `user_id` — уникальный идентификатор пользователя\n",
    "- `distance` — расстояние, которое пользователь проехал в текущей сессии (в метрах)\n",
    "- `duration` — продолжительность сессии (в минутах) — время с того момента, как пользователь нажал кнопку «Начать поездку» до момента, как он нажал кнопку «Завершить поездку»\n",
    "- `date` — дата совершения поездки"
   ]
  },
  {
   "cell_type": "markdown",
   "id": "72b532a0",
   "metadata": {},
   "source": [
    "#### Загрузка данных по подпискам"
   ]
  },
  {
   "cell_type": "code",
   "execution_count": 10,
   "id": "092b5a58",
   "metadata": {},
   "outputs": [],
   "source": [
    "# чтение файла с данными и сохранение в data_subs\n",
    "try:\n",
    "    data_subs = pd.read_csv('/datasets/subscriptions_go.csv', sep=',')\n",
    "except: \n",
    "    data_subs = pd.read_csv('https://code.s3.yandex.net/datasets/subscriptions_go.csv', sep=',')"
   ]
  },
  {
   "cell_type": "code",
   "execution_count": 11,
   "id": "9549045d",
   "metadata": {},
   "outputs": [
    {
     "data": {
      "text/html": [
       "<div>\n",
       "<style scoped>\n",
       "    .dataframe tbody tr th:only-of-type {\n",
       "        vertical-align: middle;\n",
       "    }\n",
       "\n",
       "    .dataframe tbody tr th {\n",
       "        vertical-align: top;\n",
       "    }\n",
       "\n",
       "    .dataframe thead th {\n",
       "        text-align: right;\n",
       "    }\n",
       "</style>\n",
       "<table border=\"1\" class=\"dataframe\">\n",
       "  <thead>\n",
       "    <tr style=\"text-align: right;\">\n",
       "      <th></th>\n",
       "      <th>subscription_type</th>\n",
       "      <th>minute_price</th>\n",
       "      <th>start_ride_price</th>\n",
       "      <th>subscription_fee</th>\n",
       "    </tr>\n",
       "  </thead>\n",
       "  <tbody>\n",
       "    <tr>\n",
       "      <th>0</th>\n",
       "      <td>free</td>\n",
       "      <td>8</td>\n",
       "      <td>50</td>\n",
       "      <td>0</td>\n",
       "    </tr>\n",
       "    <tr>\n",
       "      <th>1</th>\n",
       "      <td>ultra</td>\n",
       "      <td>6</td>\n",
       "      <td>0</td>\n",
       "      <td>199</td>\n",
       "    </tr>\n",
       "  </tbody>\n",
       "</table>\n",
       "</div>"
      ],
      "text/plain": [
       "  subscription_type  minute_price  start_ride_price  subscription_fee\n",
       "0              free             8                50                 0\n",
       "1             ultra             6                 0               199"
      ]
     },
     "execution_count": 11,
     "metadata": {},
     "output_type": "execute_result"
    }
   ],
   "source": [
    "# получение первых 10 строк таблицы data_subs\n",
    "data_subs.head(10)"
   ]
  },
  {
   "cell_type": "code",
   "execution_count": 12,
   "id": "a4997107",
   "metadata": {},
   "outputs": [
    {
     "data": {
      "image/png": "[encoded data removed]",
      "text/plain": [
       "<Figure size 720x288 with 4 Axes>"
      ]
     },
     "metadata": {
      "needs_background": "light"
     },
     "output_type": "display_data"
    }
   ],
   "source": [
    "# гистораммы датасета\n",
    "data_subs.hist(figsize=(10, 4))\n",
    "plt.show()"
   ]
  },
  {
   "cell_type": "code",
   "execution_count": 13,
   "id": "829ab4d9",
   "metadata": {},
   "outputs": [
    {
     "name": "stdout",
     "output_type": "stream",
     "text": [
      "<class 'pandas.core.frame.DataFrame'>\n",
      "RangeIndex: 2 entries, 0 to 1\n",
      "Data columns (total 4 columns):\n",
      " #   Column             Non-Null Count  Dtype \n",
      "---  ------             --------------  ----- \n",
      " 0   subscription_type  2 non-null      object\n",
      " 1   minute_price       2 non-null      int64 \n",
      " 2   start_ride_price   2 non-null      int64 \n",
      " 3   subscription_fee   2 non-null      int64 \n",
      "dtypes: int64(3), object(1)\n",
      "memory usage: 192.0+ bytes\n"
     ]
    }
   ],
   "source": [
    "# получение общей информации о данных в таблице data_subs\n",
    "data_subs.info()"
   ]
  },
  {
   "cell_type": "markdown",
   "id": "c45ea628",
   "metadata": {},
   "source": [
    "Описание данных — `subscriptions_go.csv`\n",
    "\n",
    "- `subscription_type` — тип подписки\n",
    "- `minute_price` — стоимость одной минуты поездки по данной подписке\n",
    "- `start_ride_price` — стоимость начала поездки\n",
    "- `subscription_fee` — стоимость ежемесячного платежа"
   ]
  },
  {
   "cell_type": "markdown",
   "id": "aa907c38",
   "metadata": {},
   "source": [
    "**Вывод**\n",
    "\n",
    "Загрузили и изучили общую информацию о каждом датафрейме.\n",
    "\n",
    "Перейдём к предобработке данных."
   ]
  },
  {
   "cell_type": "markdown",
   "id": "e95ebca7",
   "metadata": {},
   "source": [
    "### 2. Предобработка данных"
   ]
  },
  {
   "cell_type": "markdown",
   "id": "14bac17d",
   "metadata": {},
   "source": [
    "#### Пропуски значений"
   ]
  },
  {
   "cell_type": "code",
   "execution_count": 14,
   "id": "af6d202c",
   "metadata": {
    "scrolled": true
   },
   "outputs": [
    {
     "data": {
      "text/plain": [
       "user_id              0\n",
       "name                 0\n",
       "age                  0\n",
       "city                 0\n",
       "subscription_type    0\n",
       "dtype: int64"
      ]
     },
     "execution_count": 14,
     "metadata": {},
     "output_type": "execute_result"
    }
   ],
   "source": [
    "# подсчёт пропусков\n",
    "data_users.isna().sum()"
   ]
  },
  {
   "cell_type": "code",
   "execution_count": 15,
   "id": "3b74393b",
   "metadata": {},
   "outputs": [
    {
     "data": {
      "text/plain": [
       "user_id     0\n",
       "distance    0\n",
       "duration    0\n",
       "date        0\n",
       "dtype: int64"
      ]
     },
     "execution_count": 15,
     "metadata": {},
     "output_type": "execute_result"
    }
   ],
   "source": [
    "# подсчёт пропусков\n",
    "data_rides.isna().sum()"
   ]
  },
  {
   "cell_type": "code",
   "execution_count": 16,
   "id": "edade67a",
   "metadata": {},
   "outputs": [
    {
     "data": {
      "text/plain": [
       "subscription_type    0\n",
       "minute_price         0\n",
       "start_ride_price     0\n",
       "subscription_fee     0\n",
       "dtype: int64"
      ]
     },
     "execution_count": 16,
     "metadata": {},
     "output_type": "execute_result"
    }
   ],
   "source": [
    "# подсчёт пропусков\n",
    "data_subs.isna().sum()"
   ]
  },
  {
   "cell_type": "markdown",
   "id": "d242a314",
   "metadata": {},
   "source": [
    "#### Изменение типов данных"
   ]
  },
  {
   "cell_type": "code",
   "execution_count": 17,
   "id": "9403370d",
   "metadata": {},
   "outputs": [
    {
     "data": {
      "text/plain": [
       "user_id              int64\n",
       "distance           float64\n",
       "duration           float64\n",
       "date        datetime64[ns]\n",
       "dtype: object"
      ]
     },
     "execution_count": 17,
     "metadata": {},
     "output_type": "execute_result"
    }
   ],
   "source": [
    "# преобразуем date к типу datetime с помощью pd.to_datetime\n",
    "data_rides['date'] = pd.to_datetime(data_rides['date'], format='%Y.%m.%d')\n",
    "\n",
    "data_rides.dtypes"
   ]
  },
  {
   "cell_type": "code",
   "execution_count": 18,
   "id": "7d118331",
   "metadata": {},
   "outputs": [
    {
     "data": {
      "text/plain": [
       "array([2021])"
      ]
     },
     "execution_count": 18,
     "metadata": {},
     "output_type": "execute_result"
    }
   ],
   "source": [
    "# проверим год в столбце date\n",
    "data_rides['date'].dt.year.unique()"
   ]
  },
  {
   "cell_type": "code",
   "execution_count": 19,
   "id": "36b465de",
   "metadata": {},
   "outputs": [
    {
     "data": {
      "text/html": [
       "<div>\n",
       "<style scoped>\n",
       "    .dataframe tbody tr th:only-of-type {\n",
       "        vertical-align: middle;\n",
       "    }\n",
       "\n",
       "    .dataframe tbody tr th {\n",
       "        vertical-align: top;\n",
       "    }\n",
       "\n",
       "    .dataframe thead th {\n",
       "        text-align: right;\n",
       "    }\n",
       "</style>\n",
       "<table border=\"1\" class=\"dataframe\">\n",
       "  <thead>\n",
       "    <tr style=\"text-align: right;\">\n",
       "      <th></th>\n",
       "      <th>user_id</th>\n",
       "      <th>distance</th>\n",
       "      <th>duration</th>\n",
       "      <th>date</th>\n",
       "      <th>month</th>\n",
       "    </tr>\n",
       "  </thead>\n",
       "  <tbody>\n",
       "    <tr>\n",
       "      <th>0</th>\n",
       "      <td>1</td>\n",
       "      <td>4409.919140</td>\n",
       "      <td>25.599769</td>\n",
       "      <td>2021-01-01</td>\n",
       "      <td>1</td>\n",
       "    </tr>\n",
       "    <tr>\n",
       "      <th>1</th>\n",
       "      <td>1</td>\n",
       "      <td>2617.592153</td>\n",
       "      <td>15.816871</td>\n",
       "      <td>2021-01-18</td>\n",
       "      <td>1</td>\n",
       "    </tr>\n",
       "    <tr>\n",
       "      <th>2</th>\n",
       "      <td>1</td>\n",
       "      <td>754.159807</td>\n",
       "      <td>6.232113</td>\n",
       "      <td>2021-04-20</td>\n",
       "      <td>4</td>\n",
       "    </tr>\n",
       "    <tr>\n",
       "      <th>3</th>\n",
       "      <td>1</td>\n",
       "      <td>2694.783254</td>\n",
       "      <td>18.511000</td>\n",
       "      <td>2021-08-11</td>\n",
       "      <td>8</td>\n",
       "    </tr>\n",
       "    <tr>\n",
       "      <th>4</th>\n",
       "      <td>1</td>\n",
       "      <td>4028.687306</td>\n",
       "      <td>26.265803</td>\n",
       "      <td>2021-08-28</td>\n",
       "      <td>8</td>\n",
       "    </tr>\n",
       "  </tbody>\n",
       "</table>\n",
       "</div>"
      ],
      "text/plain": [
       "   user_id     distance   duration       date  month\n",
       "0        1  4409.919140  25.599769 2021-01-01      1\n",
       "1        1  2617.592153  15.816871 2021-01-18      1\n",
       "2        1   754.159807   6.232113 2021-04-20      4\n",
       "3        1  2694.783254  18.511000 2021-08-11      8\n",
       "4        1  4028.687306  26.265803 2021-08-28      8"
      ]
     },
     "execution_count": 19,
     "metadata": {},
     "output_type": "execute_result"
    }
   ],
   "source": [
    "# создадим новый столбец с номером месяца на основе столбца date\n",
    "data_rides['month'] = data_rides['date'].dt.month\n",
    "\n",
    "data_rides.head()"
   ]
  },
  {
   "cell_type": "markdown",
   "id": "15652f23",
   "metadata": {},
   "source": [
    "#### Дубликаты"
   ]
  },
  {
   "cell_type": "code",
   "execution_count": 20,
   "id": "a838081f",
   "metadata": {},
   "outputs": [
    {
     "data": {
      "text/plain": [
       "31"
      ]
     },
     "execution_count": 20,
     "metadata": {},
     "output_type": "execute_result"
    }
   ],
   "source": [
    "# найдём явные дубликаты\n",
    "data_users.duplicated().sum()"
   ]
  },
  {
   "cell_type": "code",
   "execution_count": 21,
   "id": "7e40fc9a",
   "metadata": {},
   "outputs": [
    {
     "data": {
      "text/plain": [
       "0"
      ]
     },
     "execution_count": 21,
     "metadata": {},
     "output_type": "execute_result"
    }
   ],
   "source": [
    "# удалим небольшое число явных дубликатов\n",
    "data_users.drop_duplicates(inplace=True)\n",
    "\n",
    "data_users.duplicated().sum()"
   ]
  },
  {
   "cell_type": "code",
   "execution_count": 22,
   "id": "0c125492",
   "metadata": {},
   "outputs": [
    {
     "data": {
      "text/plain": [
       "0"
      ]
     },
     "execution_count": 22,
     "metadata": {},
     "output_type": "execute_result"
    }
   ],
   "source": [
    "# найдём явные дубликаты\n",
    "data_rides.duplicated().sum()"
   ]
  },
  {
   "cell_type": "code",
   "execution_count": 23,
   "id": "157fb3c0",
   "metadata": {},
   "outputs": [
    {
     "data": {
      "text/plain": [
       "0"
      ]
     },
     "execution_count": 23,
     "metadata": {},
     "output_type": "execute_result"
    }
   ],
   "source": [
    "# найдём явные дубликаты\n",
    "data_subs.duplicated().sum()"
   ]
  },
  {
   "cell_type": "markdown",
   "id": "72e8ff5b",
   "metadata": {},
   "source": [
    "**Вывод**\n",
    "\n",
    "- пропусков не обнаружено;\n",
    "- обнаружено и удалено небольшое число дубликатов в `data_users`;\n",
    "- добавили столбец month с номер месяца. \n",
    "\n",
    "Перейдём к исследовательскому анализу."
   ]
  },
  {
   "cell_type": "markdown",
   "id": "212593c7",
   "metadata": {},
   "source": [
    "### 3. Исследовательский анализ данных"
   ]
  },
  {
   "cell_type": "markdown",
   "id": "f79c9836",
   "metadata": {},
   "source": [
    "#### Частота встречаемости городов"
   ]
  },
  {
   "cell_type": "code",
   "execution_count": 24,
   "id": "806f7446",
   "metadata": {},
   "outputs": [
    {
     "data": {
      "text/plain": [
       "Пятигорск         219\n",
       "Екатеринбург      204\n",
       "Ростов-на-Дону    198\n",
       "Краснодар         193\n",
       "Сочи              189\n",
       "Омск              183\n",
       "Тюмень            180\n",
       "Москва            168\n",
       "Name: city, dtype: int64"
      ]
     },
     "execution_count": 24,
     "metadata": {},
     "output_type": "execute_result"
    }
   ],
   "source": [
    "data_users['city'].value_counts()"
   ]
  },
  {
   "cell_type": "code",
   "execution_count": 25,
   "id": "bd1be22c",
   "metadata": {},
   "outputs": [
    {
     "data": {
      "image/png": "[encoded data removed]",
      "text/plain": [
       "<Figure size 720x360 with 1 Axes>"
      ]
     },
     "metadata": {
      "needs_background": "light"
     },
     "output_type": "display_data"
    }
   ],
   "source": [
    "data_users['city'].hist(figsize=(10,5), ec='black')\n",
    "plt.title('Распределение пользователей по городам')\n",
    "plt.xlabel('Город')\n",
    "plt.ylabel('Количество пользователей')\n",
    "plt.show()"
   ]
  },
  {
   "cell_type": "markdown",
   "id": "b6702530",
   "metadata": {},
   "source": [
    "**Описание:** наибольшее пользователей в Пятигорске - 219, а наименьшее в Москве - 168."
   ]
  },
  {
   "cell_type": "markdown",
   "id": "0f5a279a",
   "metadata": {},
   "source": [
    "#### Cоотношение пользователей с подпиской и без подписки"
   ]
  },
  {
   "cell_type": "code",
   "execution_count": 26,
   "id": "f7341e2b",
   "metadata": {},
   "outputs": [
    {
     "data": {
      "text/plain": [
       "free     835\n",
       "ultra    699\n",
       "Name: subscription_type, dtype: int64"
      ]
     },
     "execution_count": 26,
     "metadata": {},
     "output_type": "execute_result"
    }
   ],
   "source": [
    "data_users['subscription_type'].value_counts()"
   ]
  },
  {
   "cell_type": "code",
   "execution_count": 27,
   "id": "ed6b021a",
   "metadata": {},
   "outputs": [
    {
     "data": {
      "image/png": "[encoded data removed]",
      "text/plain": [
       "<Figure size 288x360 with 1 Axes>"
      ]
     },
     "metadata": {},
     "output_type": "display_data"
    }
   ],
   "source": [
    "data_users['subscription_type'].value_counts().plot(\n",
    "    kind = 'pie',\n",
    "    autopct = '%1.0f%%', \n",
    "    figsize=(4,5),\n",
    "    title = 'Процентное соотношение пользователей в зависимости от тарифа');"
   ]
  },
  {
   "cell_type": "markdown",
   "id": "a0efce6a",
   "metadata": {},
   "source": [
    "**Описание:** пользователи без подписки составлют 54%, а с подпиской - 46%, что на 8% меньше по сравнению с бесплатными пользователями."
   ]
  },
  {
   "cell_type": "markdown",
   "id": "1bf9b8fc",
   "metadata": {},
   "source": [
    "#### Возраст пользователей"
   ]
  },
  {
   "cell_type": "code",
   "execution_count": 28,
   "id": "5f4a55bc",
   "metadata": {},
   "outputs": [
    {
     "name": "stdout",
     "output_type": "stream",
     "text": [
      "Наименьший возраст пользователя: 12\n",
      "Наибольший возраст пользователя: 43\n"
     ]
    }
   ],
   "source": [
    "print('Наименьший возраст пользователя:', data_users['age'].min())\n",
    "print('Наибольший возраст пользователя:',data_users['age'].max())"
   ]
  },
  {
   "cell_type": "code",
   "execution_count": 29,
   "id": "452cec35",
   "metadata": {},
   "outputs": [
    {
     "data": {
      "image/png": "[encoded data removed]",
      "text/plain": [
       "<Figure size 432x288 with 1 Axes>"
      ]
     },
     "metadata": {
      "needs_background": "light"
     },
     "output_type": "display_data"
    }
   ],
   "source": [
    "plt.hist(data_users['age'], bins = 10)\n",
    "plt.title('Возраст пользователей')\n",
    "plt.xlabel('Возраст')\n",
    "plt.ylabel('Количество пользователей')\n",
    "plt.grid()\n",
    "plt.show()"
   ]
  },
  {
   "cell_type": "markdown",
   "id": "b3f07a49",
   "metadata": {},
   "source": [
    "**Описание:** наименьший возраст пользователя - 12, а наибольший - 43. Основная категория пользователей с 18 до 30 года. "
   ]
  },
  {
   "cell_type": "markdown",
   "id": "c610361e",
   "metadata": {},
   "source": [
    "#### Расстояние, которое пользователь преодолел за одну поездку"
   ]
  },
  {
   "cell_type": "code",
   "execution_count": 30,
   "id": "56eee35f",
   "metadata": {},
   "outputs": [
    {
     "name": "stdout",
     "output_type": "stream",
     "text": [
      "Наименьшее расстояние пользователя за одну поездку: 0.855682925681208\n",
      "Наибольшее  расстояние пользователя за одну поездку: 7211.007744598519\n"
     ]
    }
   ],
   "source": [
    "print('Наименьшее расстояние пользователя за одну поездку:', data_rides['distance'].min())\n",
    "print('Наибольшее  расстояние пользователя за одну поездку:', data_rides['distance'].max())"
   ]
  },
  {
   "cell_type": "code",
   "execution_count": 31,
   "id": "946b6914",
   "metadata": {},
   "outputs": [
    {
     "data": {
      "image/png": "[encoded data removed]",
      "text/plain": [
       "<Figure size 432x288 with 1 Axes>"
      ]
     },
     "metadata": {
      "needs_background": "light"
     },
     "output_type": "display_data"
    }
   ],
   "source": [
    "plt.hist(data_rides['distance'], bins = 10)\n",
    "plt.title('Расстояние поездок пользователей')\n",
    "plt.xlabel('Расстояние, м')\n",
    "plt.ylabel('Количество поездок')\n",
    "plt.grid()\n",
    "plt.show()"
   ]
  },
  {
   "cell_type": "markdown",
   "id": "df5bd21c",
   "metadata": {},
   "source": [
    "**Описание:** наименьшее расстояние пользователя за одну поездку - 0.86 м, а наибольшее - 7211 м. Основная категория пользователей совершает поездку от 2 до 5 км. "
   ]
  },
  {
   "cell_type": "markdown",
   "id": "2eeb7104",
   "metadata": {},
   "source": [
    "#### Продолжительность поездок"
   ]
  },
  {
   "cell_type": "code",
   "execution_count": 32,
   "id": "e4d4dbd9",
   "metadata": {},
   "outputs": [
    {
     "name": "stdout",
     "output_type": "stream",
     "text": [
      "Наименьшая продолжительность поездки пользователя: 0.5\n",
      "Наибольшая продолжительность поездки пользователя: 40.82396261922424\n"
     ]
    }
   ],
   "source": [
    "print('Наименьшая продолжительность поездки пользователя:', data_rides['duration'].min())\n",
    "print('Наибольшая продолжительность поездки пользователя:', data_rides['duration'].max())"
   ]
  },
  {
   "cell_type": "code",
   "execution_count": 33,
   "id": "d01bfb37",
   "metadata": {},
   "outputs": [
    {
     "data": {
      "image/png": "[encoded data removed]",
      "text/plain": [
       "<Figure size 432x288 with 1 Axes>"
      ]
     },
     "metadata": {
      "needs_background": "light"
     },
     "output_type": "display_data"
    }
   ],
   "source": [
    "plt.hist(data_rides['duration'], bins = 10)\n",
    "plt.title('Продолжительность поездок пользователей')\n",
    "plt.xlabel('Время, мин')\n",
    "plt.ylabel('Количество поездок')\n",
    "plt.grid()\n",
    "plt.show()"
   ]
  },
  {
   "cell_type": "markdown",
   "id": "4ffe7844",
   "metadata": {},
   "source": [
    "**Описание:** наименьшая продолжительность поездки пользователя - 30 сек, а наибольшая - 40 минут. Основная категория пользователей совершает поездку от 8 до 28 минут."
   ]
  },
  {
   "cell_type": "markdown",
   "id": "103d7220",
   "metadata": {},
   "source": [
    "**Вывод**\n",
    "\n",
    "1. **Частота встречаемости городов:** наибольшая частота поездок в Пятигорске - 219, а наименьшая в Москве - 168. Предполагаем, что в Пятигорске удобнее брать самокат, чтобы куда-то добраться по сравненвнию с Москвой.\n",
    "\n",
    "\n",
    "\n",
    "2. **Соотношение пользователей с подпиской и без подписки:** пользователи без подписки составлют 54%, а с подпиской - 46%, что на 8% меньше по сравнению с бесплатными пользователями.\n",
    "\n",
    "\n",
    "3. **Возраст пользователей:** наименьший возраст пользователя - 12, а наибольший - 43. Основная категория пользователей с 18 до 30 лет.\n",
    "\n",
    "\n",
    "4. **Расстояние, которое пользователь преодолел за одну поездку:** наименьшее расстояние пользователя за одну поездку - 0.86 м, а наибольшее - 7211 м. Основная категория пользователей совершает поездку от 2 до 5 км.\n",
    "\n",
    "\n",
    "5. **Продолжительность поездок:** наименьшая продолжительность поездки пользователя - 30 сек, а наибольшая - 40 минут. Основная категория пользователей совершает поездку от 8 до 28 минут. Предполагаем, что пользователи просто передумали пользоваться самокатом или прозошла ошибка при старте.\n",
    "\n",
    "Переходим к следующему шагу - объединение данных."
   ]
  },
  {
   "cell_type": "markdown",
   "id": "4ef51331",
   "metadata": {},
   "source": [
    "### 4. Объединение данных"
   ]
  },
  {
   "cell_type": "markdown",
   "id": "50552426",
   "metadata": {},
   "source": [
    "#### Объединение данных о пользователях, поездках и подписках в один датафрейм. "
   ]
  },
  {
   "cell_type": "code",
   "execution_count": 34,
   "id": "a9e39652",
   "metadata": {},
   "outputs": [
    {
     "data": {
      "text/plain": [
       "(1534, 5)"
      ]
     },
     "execution_count": 34,
     "metadata": {},
     "output_type": "execute_result"
    }
   ],
   "source": [
    "data_users.shape"
   ]
  },
  {
   "cell_type": "code",
   "execution_count": 35,
   "id": "cdd00665",
   "metadata": {},
   "outputs": [
    {
     "data": {
      "text/plain": [
       "(18068, 5)"
      ]
     },
     "execution_count": 35,
     "metadata": {},
     "output_type": "execute_result"
    }
   ],
   "source": [
    "data_rides.shape"
   ]
  },
  {
   "cell_type": "code",
   "execution_count": 36,
   "id": "6b9adeca",
   "metadata": {},
   "outputs": [
    {
     "data": {
      "text/plain": [
       "(2, 4)"
      ]
     },
     "execution_count": 36,
     "metadata": {},
     "output_type": "execute_result"
    }
   ],
   "source": [
    "data_subs.shape"
   ]
  },
  {
   "cell_type": "code",
   "execution_count": 37,
   "id": "6bf288b5",
   "metadata": {},
   "outputs": [],
   "source": [
    "data = data_users.merge(data_rides)"
   ]
  },
  {
   "cell_type": "code",
   "execution_count": 38,
   "id": "6430f5d4",
   "metadata": {},
   "outputs": [],
   "source": [
    "data = data.merge(data_subs)"
   ]
  },
  {
   "cell_type": "code",
   "execution_count": 39,
   "id": "e0345dff",
   "metadata": {},
   "outputs": [
    {
     "data": {
      "text/plain": [
       "(18068, 12)"
      ]
     },
     "execution_count": 39,
     "metadata": {},
     "output_type": "execute_result"
    }
   ],
   "source": [
    "data.shape"
   ]
  },
  {
   "cell_type": "code",
   "execution_count": 40,
   "id": "0c0998a0",
   "metadata": {},
   "outputs": [
    {
     "data": {
      "text/html": [
       "<div>\n",
       "<style scoped>\n",
       "    .dataframe tbody tr th:only-of-type {\n",
       "        vertical-align: middle;\n",
       "    }\n",
       "\n",
       "    .dataframe tbody tr th {\n",
       "        vertical-align: top;\n",
       "    }\n",
       "\n",
       "    .dataframe thead th {\n",
       "        text-align: right;\n",
       "    }\n",
       "</style>\n",
       "<table border=\"1\" class=\"dataframe\">\n",
       "  <thead>\n",
       "    <tr style=\"text-align: right;\">\n",
       "      <th></th>\n",
       "      <th>user_id</th>\n",
       "      <th>name</th>\n",
       "      <th>age</th>\n",
       "      <th>city</th>\n",
       "      <th>subscription_type</th>\n",
       "      <th>distance</th>\n",
       "      <th>duration</th>\n",
       "      <th>date</th>\n",
       "      <th>month</th>\n",
       "      <th>minute_price</th>\n",
       "      <th>start_ride_price</th>\n",
       "      <th>subscription_fee</th>\n",
       "    </tr>\n",
       "  </thead>\n",
       "  <tbody>\n",
       "    <tr>\n",
       "      <th>0</th>\n",
       "      <td>1</td>\n",
       "      <td>Кира</td>\n",
       "      <td>22</td>\n",
       "      <td>Тюмень</td>\n",
       "      <td>ultra</td>\n",
       "      <td>4409.919140</td>\n",
       "      <td>25.599769</td>\n",
       "      <td>2021-01-01</td>\n",
       "      <td>1</td>\n",
       "      <td>6</td>\n",
       "      <td>0</td>\n",
       "      <td>199</td>\n",
       "    </tr>\n",
       "    <tr>\n",
       "      <th>1</th>\n",
       "      <td>1</td>\n",
       "      <td>Кира</td>\n",
       "      <td>22</td>\n",
       "      <td>Тюмень</td>\n",
       "      <td>ultra</td>\n",
       "      <td>2617.592153</td>\n",
       "      <td>15.816871</td>\n",
       "      <td>2021-01-18</td>\n",
       "      <td>1</td>\n",
       "      <td>6</td>\n",
       "      <td>0</td>\n",
       "      <td>199</td>\n",
       "    </tr>\n",
       "    <tr>\n",
       "      <th>2</th>\n",
       "      <td>1</td>\n",
       "      <td>Кира</td>\n",
       "      <td>22</td>\n",
       "      <td>Тюмень</td>\n",
       "      <td>ultra</td>\n",
       "      <td>754.159807</td>\n",
       "      <td>6.232113</td>\n",
       "      <td>2021-04-20</td>\n",
       "      <td>4</td>\n",
       "      <td>6</td>\n",
       "      <td>0</td>\n",
       "      <td>199</td>\n",
       "    </tr>\n",
       "    <tr>\n",
       "      <th>3</th>\n",
       "      <td>1</td>\n",
       "      <td>Кира</td>\n",
       "      <td>22</td>\n",
       "      <td>Тюмень</td>\n",
       "      <td>ultra</td>\n",
       "      <td>2694.783254</td>\n",
       "      <td>18.511000</td>\n",
       "      <td>2021-08-11</td>\n",
       "      <td>8</td>\n",
       "      <td>6</td>\n",
       "      <td>0</td>\n",
       "      <td>199</td>\n",
       "    </tr>\n",
       "    <tr>\n",
       "      <th>4</th>\n",
       "      <td>1</td>\n",
       "      <td>Кира</td>\n",
       "      <td>22</td>\n",
       "      <td>Тюмень</td>\n",
       "      <td>ultra</td>\n",
       "      <td>4028.687306</td>\n",
       "      <td>26.265803</td>\n",
       "      <td>2021-08-28</td>\n",
       "      <td>8</td>\n",
       "      <td>6</td>\n",
       "      <td>0</td>\n",
       "      <td>199</td>\n",
       "    </tr>\n",
       "    <tr>\n",
       "      <th>...</th>\n",
       "      <td>...</td>\n",
       "      <td>...</td>\n",
       "      <td>...</td>\n",
       "      <td>...</td>\n",
       "      <td>...</td>\n",
       "      <td>...</td>\n",
       "      <td>...</td>\n",
       "      <td>...</td>\n",
       "      <td>...</td>\n",
       "      <td>...</td>\n",
       "      <td>...</td>\n",
       "      <td>...</td>\n",
       "    </tr>\n",
       "    <tr>\n",
       "      <th>18063</th>\n",
       "      <td>1534</td>\n",
       "      <td>Альберт</td>\n",
       "      <td>25</td>\n",
       "      <td>Краснодар</td>\n",
       "      <td>free</td>\n",
       "      <td>3781.098080</td>\n",
       "      <td>19.822962</td>\n",
       "      <td>2021-11-04</td>\n",
       "      <td>11</td>\n",
       "      <td>8</td>\n",
       "      <td>50</td>\n",
       "      <td>0</td>\n",
       "    </tr>\n",
       "    <tr>\n",
       "      <th>18064</th>\n",
       "      <td>1534</td>\n",
       "      <td>Альберт</td>\n",
       "      <td>25</td>\n",
       "      <td>Краснодар</td>\n",
       "      <td>free</td>\n",
       "      <td>2840.423057</td>\n",
       "      <td>21.409799</td>\n",
       "      <td>2021-11-16</td>\n",
       "      <td>11</td>\n",
       "      <td>8</td>\n",
       "      <td>50</td>\n",
       "      <td>0</td>\n",
       "    </tr>\n",
       "    <tr>\n",
       "      <th>18065</th>\n",
       "      <td>1534</td>\n",
       "      <td>Альберт</td>\n",
       "      <td>25</td>\n",
       "      <td>Краснодар</td>\n",
       "      <td>free</td>\n",
       "      <td>3826.185507</td>\n",
       "      <td>18.435051</td>\n",
       "      <td>2021-11-18</td>\n",
       "      <td>11</td>\n",
       "      <td>8</td>\n",
       "      <td>50</td>\n",
       "      <td>0</td>\n",
       "    </tr>\n",
       "    <tr>\n",
       "      <th>18066</th>\n",
       "      <td>1534</td>\n",
       "      <td>Альберт</td>\n",
       "      <td>25</td>\n",
       "      <td>Краснодар</td>\n",
       "      <td>free</td>\n",
       "      <td>2902.308661</td>\n",
       "      <td>16.674362</td>\n",
       "      <td>2021-11-27</td>\n",
       "      <td>11</td>\n",
       "      <td>8</td>\n",
       "      <td>50</td>\n",
       "      <td>0</td>\n",
       "    </tr>\n",
       "    <tr>\n",
       "      <th>18067</th>\n",
       "      <td>1534</td>\n",
       "      <td>Альберт</td>\n",
       "      <td>25</td>\n",
       "      <td>Краснодар</td>\n",
       "      <td>free</td>\n",
       "      <td>2371.711192</td>\n",
       "      <td>15.893917</td>\n",
       "      <td>2021-12-29</td>\n",
       "      <td>12</td>\n",
       "      <td>8</td>\n",
       "      <td>50</td>\n",
       "      <td>0</td>\n",
       "    </tr>\n",
       "  </tbody>\n",
       "</table>\n",
       "<p>18068 rows × 12 columns</p>\n",
       "</div>"
      ],
      "text/plain": [
       "       user_id     name  age       city subscription_type     distance  \\\n",
       "0            1     Кира   22     Тюмень             ultra  4409.919140   \n",
       "1            1     Кира   22     Тюмень             ultra  2617.592153   \n",
       "2            1     Кира   22     Тюмень             ultra   754.159807   \n",
       "3            1     Кира   22     Тюмень             ultra  2694.783254   \n",
       "4            1     Кира   22     Тюмень             ultra  4028.687306   \n",
       "...        ...      ...  ...        ...               ...          ...   \n",
       "18063     1534  Альберт   25  Краснодар              free  3781.098080   \n",
       "18064     1534  Альберт   25  Краснодар              free  2840.423057   \n",
       "18065     1534  Альберт   25  Краснодар              free  3826.185507   \n",
       "18066     1534  Альберт   25  Краснодар              free  2902.308661   \n",
       "18067     1534  Альберт   25  Краснодар              free  2371.711192   \n",
       "\n",
       "        duration       date  month  minute_price  start_ride_price  \\\n",
       "0      25.599769 2021-01-01      1             6                 0   \n",
       "1      15.816871 2021-01-18      1             6                 0   \n",
       "2       6.232113 2021-04-20      4             6                 0   \n",
       "3      18.511000 2021-08-11      8             6                 0   \n",
       "4      26.265803 2021-08-28      8             6                 0   \n",
       "...          ...        ...    ...           ...               ...   \n",
       "18063  19.822962 2021-11-04     11             8                50   \n",
       "18064  21.409799 2021-11-16     11             8                50   \n",
       "18065  18.435051 2021-11-18     11             8                50   \n",
       "18066  16.674362 2021-11-27     11             8                50   \n",
       "18067  15.893917 2021-12-29     12             8                50   \n",
       "\n",
       "       subscription_fee  \n",
       "0                   199  \n",
       "1                   199  \n",
       "2                   199  \n",
       "3                   199  \n",
       "4                   199  \n",
       "...                 ...  \n",
       "18063                 0  \n",
       "18064                 0  \n",
       "18065                 0  \n",
       "18066                 0  \n",
       "18067                 0  \n",
       "\n",
       "[18068 rows x 12 columns]"
      ]
     },
     "execution_count": 40,
     "metadata": {},
     "output_type": "execute_result"
    }
   ],
   "source": [
    "data"
   ]
  },
  {
   "cell_type": "markdown",
   "id": "51b198d2",
   "metadata": {},
   "source": [
    "####  Создаём ещё два датафрейма из датафрейма, созданного на этапе 4.1:\n",
    "- c данными о пользователях без подписки;\n",
    "- с данными о пользователях с подпиской."
   ]
  },
  {
   "cell_type": "code",
   "execution_count": 41,
   "id": "ce5a6107",
   "metadata": {},
   "outputs": [
    {
     "data": {
      "text/html": [
       "<div>\n",
       "<style scoped>\n",
       "    .dataframe tbody tr th:only-of-type {\n",
       "        vertical-align: middle;\n",
       "    }\n",
       "\n",
       "    .dataframe tbody tr th {\n",
       "        vertical-align: top;\n",
       "    }\n",
       "\n",
       "    .dataframe thead th {\n",
       "        text-align: right;\n",
       "    }\n",
       "</style>\n",
       "<table border=\"1\" class=\"dataframe\">\n",
       "  <thead>\n",
       "    <tr style=\"text-align: right;\">\n",
       "      <th></th>\n",
       "      <th>user_id</th>\n",
       "      <th>name</th>\n",
       "      <th>age</th>\n",
       "      <th>city</th>\n",
       "      <th>subscription_type</th>\n",
       "      <th>distance</th>\n",
       "      <th>duration</th>\n",
       "      <th>date</th>\n",
       "      <th>month</th>\n",
       "      <th>minute_price</th>\n",
       "      <th>start_ride_price</th>\n",
       "      <th>subscription_fee</th>\n",
       "    </tr>\n",
       "  </thead>\n",
       "  <tbody>\n",
       "    <tr>\n",
       "      <th>6500</th>\n",
       "      <td>700</td>\n",
       "      <td>Айдар</td>\n",
       "      <td>22</td>\n",
       "      <td>Омск</td>\n",
       "      <td>free</td>\n",
       "      <td>2515.690719</td>\n",
       "      <td>14.944286</td>\n",
       "      <td>2021-01-02</td>\n",
       "      <td>1</td>\n",
       "      <td>8</td>\n",
       "      <td>50</td>\n",
       "      <td>0</td>\n",
       "    </tr>\n",
       "    <tr>\n",
       "      <th>6501</th>\n",
       "      <td>700</td>\n",
       "      <td>Айдар</td>\n",
       "      <td>22</td>\n",
       "      <td>Омск</td>\n",
       "      <td>free</td>\n",
       "      <td>846.932642</td>\n",
       "      <td>16.234663</td>\n",
       "      <td>2021-02-01</td>\n",
       "      <td>2</td>\n",
       "      <td>8</td>\n",
       "      <td>50</td>\n",
       "      <td>0</td>\n",
       "    </tr>\n",
       "    <tr>\n",
       "      <th>6502</th>\n",
       "      <td>700</td>\n",
       "      <td>Айдар</td>\n",
       "      <td>22</td>\n",
       "      <td>Омск</td>\n",
       "      <td>free</td>\n",
       "      <td>4004.434142</td>\n",
       "      <td>20.016628</td>\n",
       "      <td>2021-02-04</td>\n",
       "      <td>2</td>\n",
       "      <td>8</td>\n",
       "      <td>50</td>\n",
       "      <td>0</td>\n",
       "    </tr>\n",
       "    <tr>\n",
       "      <th>6503</th>\n",
       "      <td>700</td>\n",
       "      <td>Айдар</td>\n",
       "      <td>22</td>\n",
       "      <td>Омск</td>\n",
       "      <td>free</td>\n",
       "      <td>1205.911290</td>\n",
       "      <td>9.782872</td>\n",
       "      <td>2021-02-10</td>\n",
       "      <td>2</td>\n",
       "      <td>8</td>\n",
       "      <td>50</td>\n",
       "      <td>0</td>\n",
       "    </tr>\n",
       "    <tr>\n",
       "      <th>6504</th>\n",
       "      <td>700</td>\n",
       "      <td>Айдар</td>\n",
       "      <td>22</td>\n",
       "      <td>Омск</td>\n",
       "      <td>free</td>\n",
       "      <td>3047.379435</td>\n",
       "      <td>17.427673</td>\n",
       "      <td>2021-02-14</td>\n",
       "      <td>2</td>\n",
       "      <td>8</td>\n",
       "      <td>50</td>\n",
       "      <td>0</td>\n",
       "    </tr>\n",
       "    <tr>\n",
       "      <th>...</th>\n",
       "      <td>...</td>\n",
       "      <td>...</td>\n",
       "      <td>...</td>\n",
       "      <td>...</td>\n",
       "      <td>...</td>\n",
       "      <td>...</td>\n",
       "      <td>...</td>\n",
       "      <td>...</td>\n",
       "      <td>...</td>\n",
       "      <td>...</td>\n",
       "      <td>...</td>\n",
       "      <td>...</td>\n",
       "    </tr>\n",
       "    <tr>\n",
       "      <th>18063</th>\n",
       "      <td>1534</td>\n",
       "      <td>Альберт</td>\n",
       "      <td>25</td>\n",
       "      <td>Краснодар</td>\n",
       "      <td>free</td>\n",
       "      <td>3781.098080</td>\n",
       "      <td>19.822962</td>\n",
       "      <td>2021-11-04</td>\n",
       "      <td>11</td>\n",
       "      <td>8</td>\n",
       "      <td>50</td>\n",
       "      <td>0</td>\n",
       "    </tr>\n",
       "    <tr>\n",
       "      <th>18064</th>\n",
       "      <td>1534</td>\n",
       "      <td>Альберт</td>\n",
       "      <td>25</td>\n",
       "      <td>Краснодар</td>\n",
       "      <td>free</td>\n",
       "      <td>2840.423057</td>\n",
       "      <td>21.409799</td>\n",
       "      <td>2021-11-16</td>\n",
       "      <td>11</td>\n",
       "      <td>8</td>\n",
       "      <td>50</td>\n",
       "      <td>0</td>\n",
       "    </tr>\n",
       "    <tr>\n",
       "      <th>18065</th>\n",
       "      <td>1534</td>\n",
       "      <td>Альберт</td>\n",
       "      <td>25</td>\n",
       "      <td>Краснодар</td>\n",
       "      <td>free</td>\n",
       "      <td>3826.185507</td>\n",
       "      <td>18.435051</td>\n",
       "      <td>2021-11-18</td>\n",
       "      <td>11</td>\n",
       "      <td>8</td>\n",
       "      <td>50</td>\n",
       "      <td>0</td>\n",
       "    </tr>\n",
       "    <tr>\n",
       "      <th>18066</th>\n",
       "      <td>1534</td>\n",
       "      <td>Альберт</td>\n",
       "      <td>25</td>\n",
       "      <td>Краснодар</td>\n",
       "      <td>free</td>\n",
       "      <td>2902.308661</td>\n",
       "      <td>16.674362</td>\n",
       "      <td>2021-11-27</td>\n",
       "      <td>11</td>\n",
       "      <td>8</td>\n",
       "      <td>50</td>\n",
       "      <td>0</td>\n",
       "    </tr>\n",
       "    <tr>\n",
       "      <th>18067</th>\n",
       "      <td>1534</td>\n",
       "      <td>Альберт</td>\n",
       "      <td>25</td>\n",
       "      <td>Краснодар</td>\n",
       "      <td>free</td>\n",
       "      <td>2371.711192</td>\n",
       "      <td>15.893917</td>\n",
       "      <td>2021-12-29</td>\n",
       "      <td>12</td>\n",
       "      <td>8</td>\n",
       "      <td>50</td>\n",
       "      <td>0</td>\n",
       "    </tr>\n",
       "  </tbody>\n",
       "</table>\n",
       "<p>11568 rows × 12 columns</p>\n",
       "</div>"
      ],
      "text/plain": [
       "       user_id     name  age       city subscription_type     distance  \\\n",
       "6500       700    Айдар   22       Омск              free  2515.690719   \n",
       "6501       700    Айдар   22       Омск              free   846.932642   \n",
       "6502       700    Айдар   22       Омск              free  4004.434142   \n",
       "6503       700    Айдар   22       Омск              free  1205.911290   \n",
       "6504       700    Айдар   22       Омск              free  3047.379435   \n",
       "...        ...      ...  ...        ...               ...          ...   \n",
       "18063     1534  Альберт   25  Краснодар              free  3781.098080   \n",
       "18064     1534  Альберт   25  Краснодар              free  2840.423057   \n",
       "18065     1534  Альберт   25  Краснодар              free  3826.185507   \n",
       "18066     1534  Альберт   25  Краснодар              free  2902.308661   \n",
       "18067     1534  Альберт   25  Краснодар              free  2371.711192   \n",
       "\n",
       "        duration       date  month  minute_price  start_ride_price  \\\n",
       "6500   14.944286 2021-01-02      1             8                50   \n",
       "6501   16.234663 2021-02-01      2             8                50   \n",
       "6502   20.016628 2021-02-04      2             8                50   \n",
       "6503    9.782872 2021-02-10      2             8                50   \n",
       "6504   17.427673 2021-02-14      2             8                50   \n",
       "...          ...        ...    ...           ...               ...   \n",
       "18063  19.822962 2021-11-04     11             8                50   \n",
       "18064  21.409799 2021-11-16     11             8                50   \n",
       "18065  18.435051 2021-11-18     11             8                50   \n",
       "18066  16.674362 2021-11-27     11             8                50   \n",
       "18067  15.893917 2021-12-29     12             8                50   \n",
       "\n",
       "       subscription_fee  \n",
       "6500                  0  \n",
       "6501                  0  \n",
       "6502                  0  \n",
       "6503                  0  \n",
       "6504                  0  \n",
       "...                 ...  \n",
       "18063                 0  \n",
       "18064                 0  \n",
       "18065                 0  \n",
       "18066                 0  \n",
       "18067                 0  \n",
       "\n",
       "[11568 rows x 12 columns]"
      ]
     },
     "execution_count": 41,
     "metadata": {},
     "output_type": "execute_result"
    }
   ],
   "source": [
    "subs_free = data.query(\"subscription_type == 'free'\")\n",
    "subs_free"
   ]
  },
  {
   "cell_type": "code",
   "execution_count": 42,
   "id": "f2a2c279",
   "metadata": {},
   "outputs": [
    {
     "data": {
      "text/html": [
       "<div>\n",
       "<style scoped>\n",
       "    .dataframe tbody tr th:only-of-type {\n",
       "        vertical-align: middle;\n",
       "    }\n",
       "\n",
       "    .dataframe tbody tr th {\n",
       "        vertical-align: top;\n",
       "    }\n",
       "\n",
       "    .dataframe thead th {\n",
       "        text-align: right;\n",
       "    }\n",
       "</style>\n",
       "<table border=\"1\" class=\"dataframe\">\n",
       "  <thead>\n",
       "    <tr style=\"text-align: right;\">\n",
       "      <th></th>\n",
       "      <th>user_id</th>\n",
       "      <th>name</th>\n",
       "      <th>age</th>\n",
       "      <th>city</th>\n",
       "      <th>subscription_type</th>\n",
       "      <th>distance</th>\n",
       "      <th>duration</th>\n",
       "      <th>date</th>\n",
       "      <th>month</th>\n",
       "      <th>minute_price</th>\n",
       "      <th>start_ride_price</th>\n",
       "      <th>subscription_fee</th>\n",
       "    </tr>\n",
       "  </thead>\n",
       "  <tbody>\n",
       "    <tr>\n",
       "      <th>0</th>\n",
       "      <td>1</td>\n",
       "      <td>Кира</td>\n",
       "      <td>22</td>\n",
       "      <td>Тюмень</td>\n",
       "      <td>ultra</td>\n",
       "      <td>4409.919140</td>\n",
       "      <td>25.599769</td>\n",
       "      <td>2021-01-01</td>\n",
       "      <td>1</td>\n",
       "      <td>6</td>\n",
       "      <td>0</td>\n",
       "      <td>199</td>\n",
       "    </tr>\n",
       "    <tr>\n",
       "      <th>1</th>\n",
       "      <td>1</td>\n",
       "      <td>Кира</td>\n",
       "      <td>22</td>\n",
       "      <td>Тюмень</td>\n",
       "      <td>ultra</td>\n",
       "      <td>2617.592153</td>\n",
       "      <td>15.816871</td>\n",
       "      <td>2021-01-18</td>\n",
       "      <td>1</td>\n",
       "      <td>6</td>\n",
       "      <td>0</td>\n",
       "      <td>199</td>\n",
       "    </tr>\n",
       "    <tr>\n",
       "      <th>2</th>\n",
       "      <td>1</td>\n",
       "      <td>Кира</td>\n",
       "      <td>22</td>\n",
       "      <td>Тюмень</td>\n",
       "      <td>ultra</td>\n",
       "      <td>754.159807</td>\n",
       "      <td>6.232113</td>\n",
       "      <td>2021-04-20</td>\n",
       "      <td>4</td>\n",
       "      <td>6</td>\n",
       "      <td>0</td>\n",
       "      <td>199</td>\n",
       "    </tr>\n",
       "    <tr>\n",
       "      <th>3</th>\n",
       "      <td>1</td>\n",
       "      <td>Кира</td>\n",
       "      <td>22</td>\n",
       "      <td>Тюмень</td>\n",
       "      <td>ultra</td>\n",
       "      <td>2694.783254</td>\n",
       "      <td>18.511000</td>\n",
       "      <td>2021-08-11</td>\n",
       "      <td>8</td>\n",
       "      <td>6</td>\n",
       "      <td>0</td>\n",
       "      <td>199</td>\n",
       "    </tr>\n",
       "    <tr>\n",
       "      <th>4</th>\n",
       "      <td>1</td>\n",
       "      <td>Кира</td>\n",
       "      <td>22</td>\n",
       "      <td>Тюмень</td>\n",
       "      <td>ultra</td>\n",
       "      <td>4028.687306</td>\n",
       "      <td>26.265803</td>\n",
       "      <td>2021-08-28</td>\n",
       "      <td>8</td>\n",
       "      <td>6</td>\n",
       "      <td>0</td>\n",
       "      <td>199</td>\n",
       "    </tr>\n",
       "    <tr>\n",
       "      <th>...</th>\n",
       "      <td>...</td>\n",
       "      <td>...</td>\n",
       "      <td>...</td>\n",
       "      <td>...</td>\n",
       "      <td>...</td>\n",
       "      <td>...</td>\n",
       "      <td>...</td>\n",
       "      <td>...</td>\n",
       "      <td>...</td>\n",
       "      <td>...</td>\n",
       "      <td>...</td>\n",
       "      <td>...</td>\n",
       "    </tr>\n",
       "    <tr>\n",
       "      <th>6495</th>\n",
       "      <td>699</td>\n",
       "      <td>Оксана</td>\n",
       "      <td>22</td>\n",
       "      <td>Москва</td>\n",
       "      <td>ultra</td>\n",
       "      <td>3973.046497</td>\n",
       "      <td>24.671163</td>\n",
       "      <td>2021-08-29</td>\n",
       "      <td>8</td>\n",
       "      <td>6</td>\n",
       "      <td>0</td>\n",
       "      <td>199</td>\n",
       "    </tr>\n",
       "    <tr>\n",
       "      <th>6496</th>\n",
       "      <td>699</td>\n",
       "      <td>Оксана</td>\n",
       "      <td>22</td>\n",
       "      <td>Москва</td>\n",
       "      <td>ultra</td>\n",
       "      <td>3288.702563</td>\n",
       "      <td>15.892886</td>\n",
       "      <td>2021-09-12</td>\n",
       "      <td>9</td>\n",
       "      <td>6</td>\n",
       "      <td>0</td>\n",
       "      <td>199</td>\n",
       "    </tr>\n",
       "    <tr>\n",
       "      <th>6497</th>\n",
       "      <td>699</td>\n",
       "      <td>Оксана</td>\n",
       "      <td>22</td>\n",
       "      <td>Москва</td>\n",
       "      <td>ultra</td>\n",
       "      <td>3076.159348</td>\n",
       "      <td>14.389525</td>\n",
       "      <td>2021-09-26</td>\n",
       "      <td>9</td>\n",
       "      <td>6</td>\n",
       "      <td>0</td>\n",
       "      <td>199</td>\n",
       "    </tr>\n",
       "    <tr>\n",
       "      <th>6498</th>\n",
       "      <td>699</td>\n",
       "      <td>Оксана</td>\n",
       "      <td>22</td>\n",
       "      <td>Москва</td>\n",
       "      <td>ultra</td>\n",
       "      <td>4707.845501</td>\n",
       "      <td>15.839579</td>\n",
       "      <td>2021-10-17</td>\n",
       "      <td>10</td>\n",
       "      <td>6</td>\n",
       "      <td>0</td>\n",
       "      <td>199</td>\n",
       "    </tr>\n",
       "    <tr>\n",
       "      <th>6499</th>\n",
       "      <td>699</td>\n",
       "      <td>Оксана</td>\n",
       "      <td>22</td>\n",
       "      <td>Москва</td>\n",
       "      <td>ultra</td>\n",
       "      <td>3202.890770</td>\n",
       "      <td>25.217345</td>\n",
       "      <td>2021-12-03</td>\n",
       "      <td>12</td>\n",
       "      <td>6</td>\n",
       "      <td>0</td>\n",
       "      <td>199</td>\n",
       "    </tr>\n",
       "  </tbody>\n",
       "</table>\n",
       "<p>6500 rows × 12 columns</p>\n",
       "</div>"
      ],
      "text/plain": [
       "      user_id    name  age    city subscription_type     distance   duration  \\\n",
       "0           1    Кира   22  Тюмень             ultra  4409.919140  25.599769   \n",
       "1           1    Кира   22  Тюмень             ultra  2617.592153  15.816871   \n",
       "2           1    Кира   22  Тюмень             ultra   754.159807   6.232113   \n",
       "3           1    Кира   22  Тюмень             ultra  2694.783254  18.511000   \n",
       "4           1    Кира   22  Тюмень             ultra  4028.687306  26.265803   \n",
       "...       ...     ...  ...     ...               ...          ...        ...   \n",
       "6495      699  Оксана   22  Москва             ultra  3973.046497  24.671163   \n",
       "6496      699  Оксана   22  Москва             ultra  3288.702563  15.892886   \n",
       "6497      699  Оксана   22  Москва             ultra  3076.159348  14.389525   \n",
       "6498      699  Оксана   22  Москва             ultra  4707.845501  15.839579   \n",
       "6499      699  Оксана   22  Москва             ultra  3202.890770  25.217345   \n",
       "\n",
       "           date  month  minute_price  start_ride_price  subscription_fee  \n",
       "0    2021-01-01      1             6                 0               199  \n",
       "1    2021-01-18      1             6                 0               199  \n",
       "2    2021-04-20      4             6                 0               199  \n",
       "3    2021-08-11      8             6                 0               199  \n",
       "4    2021-08-28      8             6                 0               199  \n",
       "...         ...    ...           ...               ...               ...  \n",
       "6495 2021-08-29      8             6                 0               199  \n",
       "6496 2021-09-12      9             6                 0               199  \n",
       "6497 2021-09-26      9             6                 0               199  \n",
       "6498 2021-10-17     10             6                 0               199  \n",
       "6499 2021-12-03     12             6                 0               199  \n",
       "\n",
       "[6500 rows x 12 columns]"
      ]
     },
     "execution_count": 42,
     "metadata": {},
     "output_type": "execute_result"
    }
   ],
   "source": [
    "subs_ultra = data.query(\"subscription_type == 'ultra'\")\n",
    "subs_ultra"
   ]
  },
  {
   "cell_type": "markdown",
   "id": "793f5bed",
   "metadata": {},
   "source": [
    "#### Визуализируем информацию о расстоянии и времени поездок для пользователей обеих категорий."
   ]
  },
  {
   "cell_type": "code",
   "execution_count": 43,
   "id": "cc8b67c2",
   "metadata": {},
   "outputs": [
    {
     "data": {
      "image/png": "[encoded data removed]",
      "text/plain": [
       "<Figure size 432x288 with 1 Axes>"
      ]
     },
     "metadata": {
      "needs_background": "light"
     },
     "output_type": "display_data"
    },
    {
     "data": {
      "text/plain": [
       "<Figure size 1440x1440 with 0 Axes>"
      ]
     },
     "metadata": {},
     "output_type": "display_data"
    }
   ],
   "source": [
    "plt.hist(subs_free['distance'], bins=40, range = (0, 7000))\n",
    "plt.title('Расстояние поездок с бесплатным тарифом')\n",
    "plt.xlabel('Расстояние, м')\n",
    "plt.ylabel('Количество поездок')\n",
    "plt.figure(figsize=(20,20))\n",
    "plt.show()"
   ]
  },
  {
   "cell_type": "code",
   "execution_count": 44,
   "id": "08f1494d",
   "metadata": {},
   "outputs": [
    {
     "data": {
      "image/png": "[encoded data removed]",
      "text/plain": [
       "<Figure size 432x288 with 1 Axes>"
      ]
     },
     "metadata": {
      "needs_background": "light"
     },
     "output_type": "display_data"
    },
    {
     "data": {
      "text/plain": [
       "<Figure size 1440x1440 with 0 Axes>"
      ]
     },
     "metadata": {},
     "output_type": "display_data"
    }
   ],
   "source": [
    "plt.hist(subs_free['duration'], bins=30, range = (0, 35))\n",
    "plt.title('Время поездок с бесплатным тарифом')\n",
    "plt.xlabel('Время поездки, мин')\n",
    "plt.ylabel('Количество поездок')\n",
    "plt.figure(figsize=(20,20))\n",
    "plt.show()"
   ]
  },
  {
   "cell_type": "code",
   "execution_count": 45,
   "id": "4da22e82",
   "metadata": {},
   "outputs": [
    {
     "data": {
      "image/png": "[encoded data removed]",
      "text/plain": [
       "<Figure size 432x288 with 1 Axes>"
      ]
     },
     "metadata": {
      "needs_background": "light"
     },
     "output_type": "display_data"
    },
    {
     "data": {
      "text/plain": [
       "<Figure size 1440x1440 with 0 Axes>"
      ]
     },
     "metadata": {},
     "output_type": "display_data"
    }
   ],
   "source": [
    "plt.hist(subs_ultra['distance'], bins=40, range = (0, 7000))\n",
    "plt.title('Расстояние поездок с платным тарифом')\n",
    "plt.xlabel('Расстояние, м')\n",
    "plt.ylabel('Количество поездок')\n",
    "plt.figure(figsize=(20,20))\n",
    "plt.show()"
   ]
  },
  {
   "cell_type": "code",
   "execution_count": 46,
   "id": "f941c7fb",
   "metadata": {},
   "outputs": [
    {
     "data": {
      "image/png": "[encoded data removed]",
      "text/plain": [
       "<Figure size 432x288 with 1 Axes>"
      ]
     },
     "metadata": {
      "needs_background": "light"
     },
     "output_type": "display_data"
    },
    {
     "data": {
      "text/plain": [
       "<Figure size 1440x1440 with 0 Axes>"
      ]
     },
     "metadata": {},
     "output_type": "display_data"
    }
   ],
   "source": [
    "plt.hist(subs_ultra['duration'], bins=30, range = (0, 35))\n",
    "plt.title('Время поездок с платным тарифом')\n",
    "plt.xlabel('Время поездки, мин')\n",
    "plt.ylabel('Количество поездок')\n",
    "plt.figure(figsize=(20,20))\n",
    "plt.show()"
   ]
  },
  {
   "cell_type": "markdown",
   "id": "2cfe41bb",
   "metadata": {},
   "source": [
    "**Вывод:** объединили данные о пользователях, поездках и тарифах в один датафрейм - `data`.\n",
    "\n",
    "На его основе создали два датафрейма:\n",
    "- `subs_free` - информация о пользователях с бесплатным тарифом\n",
    "- `subs_ultra` - Информация о пользователях с платным тарифом\n",
    "\n",
    "Визуализировали информацию о расстоянии и времени для каждого из тарифов.\n",
    "\n",
    "**Бесплатный тариф:** время поездки составляет от 10 до 30 минут, и проезжают от 2 до 5 км, есть пользователи, которые проехали даже 6 км и более.\n",
    "\n",
    "**Платный тариф:** время поездки составляет от 15 до 25 минут. Пик расстояния приходится на 3 км.\n",
    "\n",
    "Итого: на основе данных делаем вывод, что пользователи с бесплатным тарифом совершают более долгие поездки и проезжают большее расстояние, чем пользователи на платном тарифе.\n",
    "\n",
    "Переходим к подсчёту выручки."
   ]
  },
  {
   "cell_type": "markdown",
   "id": "402d620f",
   "metadata": {},
   "source": [
    "### 5. Подсчёт выручки"
   ]
  },
  {
   "cell_type": "markdown",
   "id": "3f8484a6",
   "metadata": {},
   "source": [
    "#### Создадим датафрейм с агрегированными данными о поездках на основе датафрейма из шага 4: \n",
    "- найдём суммарное расстояние, количество поездок и суммарное время для каждого пользователя за каждый месяц."
   ]
  },
  {
   "cell_type": "code",
   "execution_count": 47,
   "id": "1eb5e398",
   "metadata": {},
   "outputs": [],
   "source": [
    "revenue = pd.pivot_table(data,\n",
    "                           index=['month', 'user_id'],\n",
    "                           values = ['distance', 'duration', 'name', 'subscription_type'],\n",
    "                           aggfunc = {'distance': sum, \n",
    "                                      'duration' : sum, \n",
    "                                      'name' : len, \n",
    "                                      'subscription_type' : min})"
   ]
  },
  {
   "cell_type": "code",
   "execution_count": 48,
   "id": "9f276fd5",
   "metadata": {},
   "outputs": [],
   "source": [
    "revenue.rename(columns = {'name' : 'rides'}, inplace = True)"
   ]
  },
  {
   "cell_type": "code",
   "execution_count": 49,
   "id": "0e3b9ce9",
   "metadata": {},
   "outputs": [
    {
     "data": {
      "text/plain": [
       "distance             0\n",
       "duration             0\n",
       "rides                0\n",
       "subscription_type    0\n",
       "dtype: int64"
      ]
     },
     "execution_count": 49,
     "metadata": {},
     "output_type": "execute_result"
    }
   ],
   "source": [
    "revenue.isna().sum()"
   ]
  },
  {
   "cell_type": "code",
   "execution_count": 50,
   "id": "42c6a03e",
   "metadata": {
    "scrolled": true
   },
   "outputs": [
    {
     "data": {
      "text/html": [
       "<div>\n",
       "<style scoped>\n",
       "    .dataframe tbody tr th:only-of-type {\n",
       "        vertical-align: middle;\n",
       "    }\n",
       "\n",
       "    .dataframe tbody tr th {\n",
       "        vertical-align: top;\n",
       "    }\n",
       "\n",
       "    .dataframe thead th {\n",
       "        text-align: right;\n",
       "    }\n",
       "</style>\n",
       "<table border=\"1\" class=\"dataframe\">\n",
       "  <thead>\n",
       "    <tr style=\"text-align: right;\">\n",
       "      <th></th>\n",
       "      <th></th>\n",
       "      <th>distance</th>\n",
       "      <th>duration</th>\n",
       "      <th>rides</th>\n",
       "      <th>subscription_type</th>\n",
       "    </tr>\n",
       "    <tr>\n",
       "      <th>month</th>\n",
       "      <th>user_id</th>\n",
       "      <th></th>\n",
       "      <th></th>\n",
       "      <th></th>\n",
       "      <th></th>\n",
       "    </tr>\n",
       "  </thead>\n",
       "  <tbody>\n",
       "    <tr>\n",
       "      <th rowspan=\"5\" valign=\"top\">1</th>\n",
       "      <th>1</th>\n",
       "      <td>7027.511294</td>\n",
       "      <td>41.416640</td>\n",
       "      <td>2</td>\n",
       "      <td>ultra</td>\n",
       "    </tr>\n",
       "    <tr>\n",
       "      <th>3</th>\n",
       "      <td>3061.777147</td>\n",
       "      <td>12.654443</td>\n",
       "      <td>1</td>\n",
       "      <td>ultra</td>\n",
       "    </tr>\n",
       "    <tr>\n",
       "      <th>5</th>\n",
       "      <td>3914.646990</td>\n",
       "      <td>12.395153</td>\n",
       "      <td>1</td>\n",
       "      <td>ultra</td>\n",
       "    </tr>\n",
       "    <tr>\n",
       "      <th>7</th>\n",
       "      <td>6478.080979</td>\n",
       "      <td>27.653450</td>\n",
       "      <td>2</td>\n",
       "      <td>ultra</td>\n",
       "    </tr>\n",
       "    <tr>\n",
       "      <th>12</th>\n",
       "      <td>3577.151148</td>\n",
       "      <td>32.462907</td>\n",
       "      <td>1</td>\n",
       "      <td>ultra</td>\n",
       "    </tr>\n",
       "  </tbody>\n",
       "</table>\n",
       "</div>"
      ],
      "text/plain": [
       "                  distance   duration  rides subscription_type\n",
       "month user_id                                                 \n",
       "1     1        7027.511294  41.416640      2             ultra\n",
       "      3        3061.777147  12.654443      1             ultra\n",
       "      5        3914.646990  12.395153      1             ultra\n",
       "      7        6478.080979  27.653450      2             ultra\n",
       "      12       3577.151148  32.462907      1             ultra"
      ]
     },
     "execution_count": 50,
     "metadata": {},
     "output_type": "execute_result"
    }
   ],
   "source": [
    "revenue.head()"
   ]
  },
  {
   "cell_type": "markdown",
   "id": "b7ecd318",
   "metadata": {},
   "source": [
    "#### В этот же датафрейм добавим столбец с помесячной выручкой, которую принёс каждый пользователь."
   ]
  },
  {
   "cell_type": "code",
   "execution_count": 51,
   "id": "1cbb1e7d",
   "metadata": {},
   "outputs": [],
   "source": [
    "revenue['duration'] = np.ceil(revenue['duration'])"
   ]
  },
  {
   "cell_type": "code",
   "execution_count": 52,
   "id": "6310e8a4",
   "metadata": {},
   "outputs": [
    {
     "data": {
      "text/html": [
       "<div>\n",
       "<style scoped>\n",
       "    .dataframe tbody tr th:only-of-type {\n",
       "        vertical-align: middle;\n",
       "    }\n",
       "\n",
       "    .dataframe tbody tr th {\n",
       "        vertical-align: top;\n",
       "    }\n",
       "\n",
       "    .dataframe thead th {\n",
       "        text-align: right;\n",
       "    }\n",
       "</style>\n",
       "<table border=\"1\" class=\"dataframe\">\n",
       "  <thead>\n",
       "    <tr style=\"text-align: right;\">\n",
       "      <th></th>\n",
       "      <th></th>\n",
       "      <th>distance</th>\n",
       "      <th>duration</th>\n",
       "      <th>rides</th>\n",
       "      <th>subscription_type</th>\n",
       "    </tr>\n",
       "    <tr>\n",
       "      <th>month</th>\n",
       "      <th>user_id</th>\n",
       "      <th></th>\n",
       "      <th></th>\n",
       "      <th></th>\n",
       "      <th></th>\n",
       "    </tr>\n",
       "  </thead>\n",
       "  <tbody>\n",
       "    <tr>\n",
       "      <th rowspan=\"5\" valign=\"top\">1</th>\n",
       "      <th>1</th>\n",
       "      <td>7027.511294</td>\n",
       "      <td>42.0</td>\n",
       "      <td>2</td>\n",
       "      <td>ultra</td>\n",
       "    </tr>\n",
       "    <tr>\n",
       "      <th>3</th>\n",
       "      <td>3061.777147</td>\n",
       "      <td>13.0</td>\n",
       "      <td>1</td>\n",
       "      <td>ultra</td>\n",
       "    </tr>\n",
       "    <tr>\n",
       "      <th>5</th>\n",
       "      <td>3914.646990</td>\n",
       "      <td>13.0</td>\n",
       "      <td>1</td>\n",
       "      <td>ultra</td>\n",
       "    </tr>\n",
       "    <tr>\n",
       "      <th>7</th>\n",
       "      <td>6478.080979</td>\n",
       "      <td>28.0</td>\n",
       "      <td>2</td>\n",
       "      <td>ultra</td>\n",
       "    </tr>\n",
       "    <tr>\n",
       "      <th>12</th>\n",
       "      <td>3577.151148</td>\n",
       "      <td>33.0</td>\n",
       "      <td>1</td>\n",
       "      <td>ultra</td>\n",
       "    </tr>\n",
       "    <tr>\n",
       "      <th>...</th>\n",
       "      <th>...</th>\n",
       "      <td>...</td>\n",
       "      <td>...</td>\n",
       "      <td>...</td>\n",
       "      <td>...</td>\n",
       "    </tr>\n",
       "    <tr>\n",
       "      <th rowspan=\"5\" valign=\"top\">12</th>\n",
       "      <th>1525</th>\n",
       "      <td>4597.854350</td>\n",
       "      <td>34.0</td>\n",
       "      <td>1</td>\n",
       "      <td>free</td>\n",
       "    </tr>\n",
       "    <tr>\n",
       "      <th>1526</th>\n",
       "      <td>3644.121544</td>\n",
       "      <td>23.0</td>\n",
       "      <td>1</td>\n",
       "      <td>free</td>\n",
       "    </tr>\n",
       "    <tr>\n",
       "      <th>1528</th>\n",
       "      <td>3998.569324</td>\n",
       "      <td>11.0</td>\n",
       "      <td>1</td>\n",
       "      <td>free</td>\n",
       "    </tr>\n",
       "    <tr>\n",
       "      <th>1532</th>\n",
       "      <td>6111.889853</td>\n",
       "      <td>41.0</td>\n",
       "      <td>2</td>\n",
       "      <td>free</td>\n",
       "    </tr>\n",
       "    <tr>\n",
       "      <th>1534</th>\n",
       "      <td>2371.711192</td>\n",
       "      <td>16.0</td>\n",
       "      <td>1</td>\n",
       "      <td>free</td>\n",
       "    </tr>\n",
       "  </tbody>\n",
       "</table>\n",
       "<p>11331 rows × 4 columns</p>\n",
       "</div>"
      ],
      "text/plain": [
       "                  distance  duration  rides subscription_type\n",
       "month user_id                                                \n",
       "1     1        7027.511294      42.0      2             ultra\n",
       "      3        3061.777147      13.0      1             ultra\n",
       "      5        3914.646990      13.0      1             ultra\n",
       "      7        6478.080979      28.0      2             ultra\n",
       "      12       3577.151148      33.0      1             ultra\n",
       "...                    ...       ...    ...               ...\n",
       "12    1525     4597.854350      34.0      1              free\n",
       "      1526     3644.121544      23.0      1              free\n",
       "      1528     3998.569324      11.0      1              free\n",
       "      1532     6111.889853      41.0      2              free\n",
       "      1534     2371.711192      16.0      1              free\n",
       "\n",
       "[11331 rows x 4 columns]"
      ]
     },
     "execution_count": 52,
     "metadata": {},
     "output_type": "execute_result"
    }
   ],
   "source": [
    "revenue"
   ]
  },
  {
   "cell_type": "code",
   "execution_count": 53,
   "id": "7d678081",
   "metadata": {},
   "outputs": [],
   "source": [
    "def month_sum(row):\n",
    "    if row['subscription_type'] == 'ultra':\n",
    "        return 6 * row['duration'] + 199\n",
    "    elif row['subscription_type'] == 'free':\n",
    "        return 8 * row['duration'] + 50 * row['rides']\n",
    "    else:\n",
    "        return 'error'"
   ]
  },
  {
   "cell_type": "code",
   "execution_count": 54,
   "id": "59d7cf49",
   "metadata": {},
   "outputs": [],
   "source": [
    "revenue['month_revenue'] = revenue.apply(month_sum, axis=1)"
   ]
  },
  {
   "cell_type": "code",
   "execution_count": 55,
   "id": "35a40b51",
   "metadata": {},
   "outputs": [
    {
     "data": {
      "text/html": [
       "<div>\n",
       "<style scoped>\n",
       "    .dataframe tbody tr th:only-of-type {\n",
       "        vertical-align: middle;\n",
       "    }\n",
       "\n",
       "    .dataframe tbody tr th {\n",
       "        vertical-align: top;\n",
       "    }\n",
       "\n",
       "    .dataframe thead th {\n",
       "        text-align: right;\n",
       "    }\n",
       "</style>\n",
       "<table border=\"1\" class=\"dataframe\">\n",
       "  <thead>\n",
       "    <tr style=\"text-align: right;\">\n",
       "      <th></th>\n",
       "      <th></th>\n",
       "      <th>distance</th>\n",
       "      <th>duration</th>\n",
       "      <th>rides</th>\n",
       "      <th>subscription_type</th>\n",
       "      <th>month_revenue</th>\n",
       "    </tr>\n",
       "    <tr>\n",
       "      <th>month</th>\n",
       "      <th>user_id</th>\n",
       "      <th></th>\n",
       "      <th></th>\n",
       "      <th></th>\n",
       "      <th></th>\n",
       "      <th></th>\n",
       "    </tr>\n",
       "  </thead>\n",
       "  <tbody>\n",
       "    <tr>\n",
       "      <th rowspan=\"5\" valign=\"top\">1</th>\n",
       "      <th>1</th>\n",
       "      <td>7027.511294</td>\n",
       "      <td>42.0</td>\n",
       "      <td>2</td>\n",
       "      <td>ultra</td>\n",
       "      <td>451.0</td>\n",
       "    </tr>\n",
       "    <tr>\n",
       "      <th>3</th>\n",
       "      <td>3061.777147</td>\n",
       "      <td>13.0</td>\n",
       "      <td>1</td>\n",
       "      <td>ultra</td>\n",
       "      <td>277.0</td>\n",
       "    </tr>\n",
       "    <tr>\n",
       "      <th>5</th>\n",
       "      <td>3914.646990</td>\n",
       "      <td>13.0</td>\n",
       "      <td>1</td>\n",
       "      <td>ultra</td>\n",
       "      <td>277.0</td>\n",
       "    </tr>\n",
       "    <tr>\n",
       "      <th>7</th>\n",
       "      <td>6478.080979</td>\n",
       "      <td>28.0</td>\n",
       "      <td>2</td>\n",
       "      <td>ultra</td>\n",
       "      <td>367.0</td>\n",
       "    </tr>\n",
       "    <tr>\n",
       "      <th>12</th>\n",
       "      <td>3577.151148</td>\n",
       "      <td>33.0</td>\n",
       "      <td>1</td>\n",
       "      <td>ultra</td>\n",
       "      <td>397.0</td>\n",
       "    </tr>\n",
       "    <tr>\n",
       "      <th>...</th>\n",
       "      <th>...</th>\n",
       "      <td>...</td>\n",
       "      <td>...</td>\n",
       "      <td>...</td>\n",
       "      <td>...</td>\n",
       "      <td>...</td>\n",
       "    </tr>\n",
       "    <tr>\n",
       "      <th rowspan=\"5\" valign=\"top\">12</th>\n",
       "      <th>1525</th>\n",
       "      <td>4597.854350</td>\n",
       "      <td>34.0</td>\n",
       "      <td>1</td>\n",
       "      <td>free</td>\n",
       "      <td>322.0</td>\n",
       "    </tr>\n",
       "    <tr>\n",
       "      <th>1526</th>\n",
       "      <td>3644.121544</td>\n",
       "      <td>23.0</td>\n",
       "      <td>1</td>\n",
       "      <td>free</td>\n",
       "      <td>234.0</td>\n",
       "    </tr>\n",
       "    <tr>\n",
       "      <th>1528</th>\n",
       "      <td>3998.569324</td>\n",
       "      <td>11.0</td>\n",
       "      <td>1</td>\n",
       "      <td>free</td>\n",
       "      <td>138.0</td>\n",
       "    </tr>\n",
       "    <tr>\n",
       "      <th>1532</th>\n",
       "      <td>6111.889853</td>\n",
       "      <td>41.0</td>\n",
       "      <td>2</td>\n",
       "      <td>free</td>\n",
       "      <td>428.0</td>\n",
       "    </tr>\n",
       "    <tr>\n",
       "      <th>1534</th>\n",
       "      <td>2371.711192</td>\n",
       "      <td>16.0</td>\n",
       "      <td>1</td>\n",
       "      <td>free</td>\n",
       "      <td>178.0</td>\n",
       "    </tr>\n",
       "  </tbody>\n",
       "</table>\n",
       "<p>11331 rows × 5 columns</p>\n",
       "</div>"
      ],
      "text/plain": [
       "                  distance  duration  rides subscription_type  month_revenue\n",
       "month user_id                                                               \n",
       "1     1        7027.511294      42.0      2             ultra          451.0\n",
       "      3        3061.777147      13.0      1             ultra          277.0\n",
       "      5        3914.646990      13.0      1             ultra          277.0\n",
       "      7        6478.080979      28.0      2             ultra          367.0\n",
       "      12       3577.151148      33.0      1             ultra          397.0\n",
       "...                    ...       ...    ...               ...            ...\n",
       "12    1525     4597.854350      34.0      1              free          322.0\n",
       "      1526     3644.121544      23.0      1              free          234.0\n",
       "      1528     3998.569324      11.0      1              free          138.0\n",
       "      1532     6111.889853      41.0      2              free          428.0\n",
       "      1534     2371.711192      16.0      1              free          178.0\n",
       "\n",
       "[11331 rows x 5 columns]"
      ]
     },
     "execution_count": 55,
     "metadata": {},
     "output_type": "execute_result"
    }
   ],
   "source": [
    "revenue"
   ]
  },
  {
   "cell_type": "markdown",
   "id": "d8b11022",
   "metadata": {},
   "source": [
    "**Вывод**\n",
    "\n",
    "Создали новую таблицу `revenue` с агрегированными данными: суммарное расстояние, количество поездок и суммарное время для каждого пользователя за каждый месяц, а также добавили столбец с помесячной выручкой.\n",
    "\n",
    "Переходим к проверке гипотез."
   ]
  },
  {
   "cell_type": "markdown",
   "id": "41545ac0",
   "metadata": {},
   "source": [
    "### 6. Проверка гипотез"
   ]
  },
  {
   "cell_type": "markdown",
   "id": "630139f8",
   "metadata": {},
   "source": [
    "#### Проверим тратят ли пользователи с подпиской больше времени на поездки? "
   ]
  },
  {
   "cell_type": "markdown",
   "id": "a5f342af",
   "metadata": {},
   "source": [
    "Проверим гипотезу: пользователи с подпиской тратят больше времени на поездки, чем пользователи c с бесплатной подпиской?\n",
    "\n",
    "H_0: время пользователей с подпиской ultra = время пользователей без подписки free\n",
    "\n",
    "H_1: время пользователей с подпиской ultra > время пользователей без подписки free\n",
    "\n",
    "alpha = 0.05"
   ]
  },
  {
   "cell_type": "code",
   "execution_count": 56,
   "id": "20aa9d1d",
   "metadata": {},
   "outputs": [
    {
     "name": "stdout",
     "output_type": "stream",
     "text": [
      "1.2804098316645618e-34\n",
      "Отвергаем нулевую гипотезу\n"
     ]
    }
   ],
   "source": [
    "ultra = subs_ultra['duration'] \n",
    "\n",
    "free = subs_free['duration']\n",
    "\n",
    "results = st.ttest_ind(ultra, \n",
    "                       free,\n",
    "                       alternative = 'greater')\n",
    "\n",
    "alpha = .05\n",
    "\n",
    "print(results.pvalue)\n",
    "\n",
    "if results.pvalue < alpha:\n",
    "    print('Отвергаем нулевую гипотезу')\n",
    "else:\n",
    "    print('Не удалось отвергнуть нулевую гипотезу')"
   ]
  },
  {
   "cell_type": "code",
   "execution_count": 57,
   "id": "48ec22e9",
   "metadata": {
    "scrolled": true
   },
   "outputs": [
    {
     "data": {
      "image/png": "[encoded data removed]",
      "text/plain": [
       "<Figure size 432x288 with 1 Axes>"
      ]
     },
     "metadata": {
      "needs_background": "light"
     },
     "output_type": "display_data"
    }
   ],
   "source": [
    "ax = sns.barplot(x = 'month',\n",
    "            y = 'duration',\n",
    "            hue = \"subscription_type\",\n",
    "            data = data,\n",
    "            palette = ['green', 'red'])\n",
    "ax.set_title('Продолжительность поездок по типу подписки')\n",
    "ax.set(xlabel='Месяц', ylabel='Продолжительность поездок');"
   ]
  },
  {
   "cell_type": "markdown",
   "id": "f5c97c01",
   "metadata": {},
   "source": [
    "**Вывод**\n",
    "\n",
    "Гипотеза подтверждена, пользователи с тарифом ultra тратят больше времени на поездки, чем пользователи без подписки."
   ]
  },
  {
   "cell_type": "markdown",
   "id": "e3909ee3",
   "metadata": {},
   "source": [
    "#### Расстояние одной поездки в 3130 метров — оптимальное с точки зрения износа самоката. Можно ли сказать, что расстояние, которое проезжают пользователи с подпиской за одну поездку, не превышает 3130 метров?"
   ]
  },
  {
   "cell_type": "markdown",
   "id": "7696c28d",
   "metadata": {},
   "source": [
    "Проверим гипотезу: пользователи с подпиской проезжают расстояние, не превышающее 3130 метров за одну поездку?\n",
    "\n",
    "H_0: расстояние пользователей с подпиской ultra = 3130 метров\n",
    "\n",
    "H_1: расстояние пользователей с подпиской ultra < 3130 метров\n",
    "\n",
    "alpha = 0.05"
   ]
  },
  {
   "cell_type": "code",
   "execution_count": 58,
   "id": "66bc562a",
   "metadata": {},
   "outputs": [
    {
     "name": "stdout",
     "output_type": "stream",
     "text": [
      "0.9195368847849785\n",
      "Не удалось отвергнуть нулевую гипотезу\n"
     ]
    }
   ],
   "source": [
    "ultra_dist = subs_ultra['distance']\n",
    "\n",
    "interested_value = 3130.0\n",
    "alpha = .05\n",
    "\n",
    "results = st.ttest_1samp(\n",
    "    ultra_dist, \n",
    "    interested_value,\n",
    "    alternative='greater')\n",
    "    \n",
    "print(results.pvalue)\n",
    "\n",
    "if (results.pvalue < alpha):\n",
    "    print('Отвергаем нулевую гипотезу')\n",
    "else:\n",
    "    print('Не удалось отвергнуть нулевую гипотезу')"
   ]
  },
  {
   "cell_type": "markdown",
   "id": "02cb029b",
   "metadata": {},
   "source": [
    "**Вывод**\n",
    "\n",
    "Не можем утверждать, что расстояние, которое проехали пользователи с подпиской не превышает 3130 метров."
   ]
  },
  {
   "cell_type": "markdown",
   "id": "8b06b8e0",
   "metadata": {},
   "source": [
    "#### Будет ли помесячная выручка от пользователей с подпиской по месяцам выше, чем выручка от пользователей без подписки?"
   ]
  },
  {
   "cell_type": "markdown",
   "id": "481fc090",
   "metadata": {},
   "source": [
    "Проверим гипотезу: помесячная выручка от пользователей с подпиской выше, чем выручка от пользователей без подписки?\n",
    "\n",
    "H_0: выручка пользователей с подпиской ultra = выручка пользователей без подписки\n",
    "\n",
    "H_1: выручка пользователей с подпиской ultra > выручка пользователей без подписки\n",
    "\n",
    "alpha = 0.05"
   ]
  },
  {
   "cell_type": "code",
   "execution_count": 59,
   "id": "91544aa6",
   "metadata": {},
   "outputs": [
    {
     "name": "stdout",
     "output_type": "stream",
     "text": [
      "2.8130926188487286e-35\n",
      "Отвергаем нулевую гипотезу\n"
     ]
    }
   ],
   "source": [
    "ultra_revenue_per_month = revenue.loc[revenue.subscription_type == 'ultra', 'month_revenue']\n",
    "\n",
    "free_revenue_per_month = revenue.loc[revenue.subscription_type == 'free', 'month_revenue'] \n",
    "\n",
    "\n",
    "results = st.ttest_ind(ultra_revenue_per_month, \n",
    "                       free_revenue_per_month,\n",
    "                       alternative = 'greater')\n",
    "\n",
    "alpha = .05\n",
    "\n",
    "print(results.pvalue)\n",
    "\n",
    "if results.pvalue < alpha:\n",
    "    print('Отвергаем нулевую гипотезу')\n",
    "else:\n",
    "    print('Не удалось отвергнуть нулевую гипотезу')"
   ]
  },
  {
   "cell_type": "markdown",
   "id": "c182cce1",
   "metadata": {},
   "source": [
    "**Вывод**\n",
    "\n",
    "Гипотеза подтверждена, выручка по пользователям с подпиской ultra превышает выручку по пользователям без подписки."
   ]
  },
  {
   "cell_type": "markdown",
   "id": "61213c5e",
   "metadata": {},
   "source": [
    "### 7. Общий вывод"
   ]
  },
  {
   "cell_type": "markdown",
   "id": "b5a9d807",
   "metadata": {},
   "source": [
    "**Было проверено три гипотезы и установлено:**\n",
    "\n",
    "**1.** Гипотеза подтверждена, пользователи с тарифом ultra тратят больше времени на поездки, чем пользователи без подписки.\n",
    "\n",
    "\n",
    "**2.** Не можем утверждать, что расстояние, которое проехали пользователи с подпиской не превышает 3130 метров.\n",
    "\n",
    "\n",
    "**3.** Гипотеза подтверждена, выручка по пользователям с подпиской ultra превышает выручку по пользователям без подписки.\n",
    "\n",
    "\n",
    "**На основе анализа данных вывели:**\n",
    "\n",
    "- наибольшее количество пользователей находится в Пятигорске - 219, а наименьшее всего в Москве - 168;\n",
    "\n",
    "\n",
    "- пользователи без подписки составлют 54%, а с подпиской - 46%, что на 8% меньше по сравнению с бесплатными пользователями;\n",
    "\n",
    "\n",
    "- возраст типичного пользователя составляет от 18 до 30 лет;\n",
    "\n",
    "\n",
    "- основная категория пользователей проезжают от 2 км до 5 км;\n",
    "\n",
    "\n",
    "- чаще всего длительность поездки состовляет от 8 до 28 минут.\n",
    "\n",
    "**Рекомендации:** предлагаем сфокусироваться на продвижении подписки ultra для увеличения выручки внутри сервиса. Первостепенно рекомендуем обратить внимание на города с самыми активными пользователями, топ-3: Пятигорск, Екатеринбург, Ростов-на-Дону.\n",
    "\n"
   ]
  }
 ],
 "metadata": {
  "ExecuteTimeLog": [
   {
    "duration": 442,
    "start_time": "2023-06-29T18:05:47.299Z"
   },
   {
    "duration": 80,
    "start_time": "2023-06-29T18:05:48.901Z"
   },
   {
    "duration": 12,
    "start_time": "2023-06-29T18:05:51.019Z"
   },
   {
    "duration": 15,
    "start_time": "2023-06-29T18:06:23.275Z"
   },
   {
    "duration": 31,
    "start_time": "2023-06-29T18:06:37.767Z"
   },
   {
    "duration": 10,
    "start_time": "2023-06-29T18:06:38.819Z"
   },
   {
    "duration": 12,
    "start_time": "2023-06-29T18:07:00.407Z"
   },
   {
    "duration": 910,
    "start_time": "2023-06-29T18:07:19.356Z"
   },
   {
    "duration": 3,
    "start_time": "2023-06-29T18:07:52.554Z"
   },
   {
    "duration": 33,
    "start_time": "2023-06-29T18:07:54.832Z"
   },
   {
    "duration": 11,
    "start_time": "2023-06-29T18:07:55.672Z"
   },
   {
    "duration": 402,
    "start_time": "2023-06-29T18:07:57.678Z"
   },
   {
    "duration": 366,
    "start_time": "2023-06-29T18:08:06.312Z"
   },
   {
    "duration": 272,
    "start_time": "2023-06-29T18:08:17.615Z"
   },
   {
    "duration": 285,
    "start_time": "2023-06-29T18:08:24.530Z"
   },
   {
    "duration": 301,
    "start_time": "2023-06-29T18:08:29.082Z"
   },
   {
    "duration": 11,
    "start_time": "2023-06-29T18:09:31.931Z"
   },
   {
    "duration": 644,
    "start_time": "2023-06-29T18:20:09.666Z"
   },
   {
    "duration": 31,
    "start_time": "2023-06-29T18:20:10.312Z"
   },
   {
    "duration": 13,
    "start_time": "2023-06-29T18:20:10.344Z"
   },
   {
    "duration": 283,
    "start_time": "2023-06-29T18:20:10.359Z"
   },
   {
    "duration": 12,
    "start_time": "2023-06-29T18:20:10.644Z"
   },
   {
    "duration": 81,
    "start_time": "2023-06-29T18:20:10.657Z"
   },
   {
    "duration": 10,
    "start_time": "2023-06-29T18:20:10.741Z"
   },
   {
    "duration": 346,
    "start_time": "2023-06-29T18:20:10.753Z"
   },
   {
    "duration": 17,
    "start_time": "2023-06-29T18:20:11.101Z"
   },
   {
    "duration": 12,
    "start_time": "2023-06-29T18:25:44.518Z"
   },
   {
    "duration": 10,
    "start_time": "2023-06-29T18:26:54.195Z"
   },
   {
    "duration": 821,
    "start_time": "2023-06-30T11:44:55.748Z"
   },
   {
    "duration": 102,
    "start_time": "2023-06-30T11:44:56.571Z"
   },
   {
    "duration": 12,
    "start_time": "2023-06-30T11:44:56.675Z"
   },
   {
    "duration": 264,
    "start_time": "2023-06-30T11:44:56.689Z"
   },
   {
    "duration": 19,
    "start_time": "2023-06-30T11:44:56.955Z"
   },
   {
    "duration": 182,
    "start_time": "2023-06-30T11:44:56.975Z"
   },
   {
    "duration": 10,
    "start_time": "2023-06-30T11:44:57.158Z"
   },
   {
    "duration": 344,
    "start_time": "2023-06-30T11:44:57.170Z"
   },
   {
    "duration": 11,
    "start_time": "2023-06-30T11:44:57.516Z"
   },
   {
    "duration": 56,
    "start_time": "2023-06-30T11:44:57.529Z"
   },
   {
    "duration": 7,
    "start_time": "2023-06-30T11:44:57.587Z"
   },
   {
    "duration": 349,
    "start_time": "2023-06-30T11:44:57.595Z"
   },
   {
    "duration": 21,
    "start_time": "2023-06-30T11:44:57.947Z"
   },
   {
    "duration": 7,
    "start_time": "2023-06-30T11:53:31.868Z"
   },
   {
    "duration": 64,
    "start_time": "2023-06-30T11:53:48.134Z"
   },
   {
    "duration": 8,
    "start_time": "2023-06-30T11:54:05.795Z"
   },
   {
    "duration": 8,
    "start_time": "2023-06-30T11:54:07.700Z"
   },
   {
    "duration": 6,
    "start_time": "2023-06-30T11:54:18.790Z"
   },
   {
    "duration": 12,
    "start_time": "2023-06-30T11:57:39.503Z"
   },
   {
    "duration": 14,
    "start_time": "2023-06-30T11:57:50.123Z"
   },
   {
    "duration": 10,
    "start_time": "2023-06-30T11:58:12.883Z"
   },
   {
    "duration": 14,
    "start_time": "2023-06-30T11:58:58.351Z"
   },
   {
    "duration": 10,
    "start_time": "2023-06-30T11:59:00.252Z"
   },
   {
    "duration": 13,
    "start_time": "2023-06-30T11:59:47.539Z"
   },
   {
    "duration": 8,
    "start_time": "2023-06-30T11:59:48.132Z"
   },
   {
    "duration": 658,
    "start_time": "2023-06-30T12:00:07.000Z"
   },
   {
    "duration": 28,
    "start_time": "2023-06-30T12:00:07.660Z"
   },
   {
    "duration": 13,
    "start_time": "2023-06-30T12:00:07.690Z"
   },
   {
    "duration": 287,
    "start_time": "2023-06-30T12:00:07.704Z"
   },
   {
    "duration": 12,
    "start_time": "2023-06-30T12:00:07.994Z"
   },
   {
    "duration": 46,
    "start_time": "2023-06-30T12:00:08.008Z"
   },
   {
    "duration": 10,
    "start_time": "2023-06-30T12:00:08.056Z"
   },
   {
    "duration": 335,
    "start_time": "2023-06-30T12:00:08.068Z"
   },
   {
    "duration": 11,
    "start_time": "2023-06-30T12:00:08.405Z"
   },
   {
    "duration": 18,
    "start_time": "2023-06-30T12:00:08.418Z"
   },
   {
    "duration": 7,
    "start_time": "2023-06-30T12:00:08.437Z"
   },
   {
    "duration": 362,
    "start_time": "2023-06-30T12:00:08.445Z"
   },
   {
    "duration": 11,
    "start_time": "2023-06-30T12:00:08.808Z"
   },
   {
    "duration": 14,
    "start_time": "2023-06-30T12:00:08.822Z"
   },
   {
    "duration": 21,
    "start_time": "2023-06-30T12:00:08.838Z"
   },
   {
    "duration": 12,
    "start_time": "2023-06-30T12:00:08.860Z"
   },
   {
    "duration": 14,
    "start_time": "2023-06-30T12:00:08.874Z"
   },
   {
    "duration": 9,
    "start_time": "2023-06-30T12:00:08.889Z"
   },
   {
    "duration": 79,
    "start_time": "2023-06-30T12:02:55.708Z"
   },
   {
    "duration": 6,
    "start_time": "2023-06-30T12:03:35.255Z"
   },
   {
    "duration": 7,
    "start_time": "2023-06-30T12:04:35.301Z"
   },
   {
    "duration": 5,
    "start_time": "2023-06-30T12:04:42.400Z"
   },
   {
    "duration": 11,
    "start_time": "2023-06-30T12:05:02.982Z"
   },
   {
    "duration": 7,
    "start_time": "2023-06-30T12:06:12.330Z"
   },
   {
    "duration": 7,
    "start_time": "2023-06-30T12:06:16.054Z"
   },
   {
    "duration": 6,
    "start_time": "2023-06-30T12:06:22.092Z"
   },
   {
    "duration": 9,
    "start_time": "2023-06-30T12:07:12.844Z"
   },
   {
    "duration": 9,
    "start_time": "2023-06-30T12:08:37.608Z"
   },
   {
    "duration": 6,
    "start_time": "2023-06-30T12:08:48.023Z"
   },
   {
    "duration": 6,
    "start_time": "2023-06-30T12:21:16.419Z"
   },
   {
    "duration": 133,
    "start_time": "2023-06-30T12:22:40.496Z"
   },
   {
    "duration": 146,
    "start_time": "2023-06-30T12:24:09.389Z"
   },
   {
    "duration": 131,
    "start_time": "2023-06-30T12:24:38.534Z"
   },
   {
    "duration": 110,
    "start_time": "2023-06-30T12:24:46.410Z"
   },
   {
    "duration": 117,
    "start_time": "2023-06-30T12:24:50.048Z"
   },
   {
    "duration": 110,
    "start_time": "2023-06-30T12:25:29.300Z"
   },
   {
    "duration": 134,
    "start_time": "2023-06-30T12:25:33.355Z"
   },
   {
    "duration": 132,
    "start_time": "2023-06-30T12:25:44.525Z"
   },
   {
    "duration": 139,
    "start_time": "2023-06-30T12:25:48.511Z"
   },
   {
    "duration": 137,
    "start_time": "2023-06-30T12:25:51.522Z"
   },
   {
    "duration": 5,
    "start_time": "2023-06-30T12:29:29.742Z"
   },
   {
    "duration": 122,
    "start_time": "2023-06-30T12:30:27.619Z"
   },
   {
    "duration": 136,
    "start_time": "2023-06-30T12:30:40.712Z"
   },
   {
    "duration": 199,
    "start_time": "2023-06-30T12:31:00.500Z"
   },
   {
    "duration": 9,
    "start_time": "2023-06-30T12:32:38.780Z"
   },
   {
    "duration": 9,
    "start_time": "2023-06-30T12:32:41.796Z"
   },
   {
    "duration": 11,
    "start_time": "2023-06-30T12:32:44.670Z"
   },
   {
    "duration": 85,
    "start_time": "2023-06-30T12:33:17.752Z"
   },
   {
    "duration": 134,
    "start_time": "2023-06-30T12:33:51.641Z"
   },
   {
    "duration": 87,
    "start_time": "2023-06-30T12:34:00.234Z"
   },
   {
    "duration": 19,
    "start_time": "2023-06-30T12:34:35.731Z"
   },
   {
    "duration": 20,
    "start_time": "2023-06-30T12:34:41.760Z"
   },
   {
    "duration": 107,
    "start_time": "2023-06-30T12:34:50.405Z"
   },
   {
    "duration": 74,
    "start_time": "2023-06-30T12:34:55.612Z"
   },
   {
    "duration": 84,
    "start_time": "2023-06-30T12:35:00.519Z"
   },
   {
    "duration": 85,
    "start_time": "2023-06-30T12:35:03.000Z"
   },
   {
    "duration": 91,
    "start_time": "2023-06-30T12:35:06.967Z"
   },
   {
    "duration": 90,
    "start_time": "2023-06-30T12:35:12.046Z"
   },
   {
    "duration": 87,
    "start_time": "2023-06-30T12:35:15.845Z"
   },
   {
    "duration": 78,
    "start_time": "2023-06-30T12:35:28.621Z"
   },
   {
    "duration": 81,
    "start_time": "2023-06-30T12:35:37.034Z"
   },
   {
    "duration": 151,
    "start_time": "2023-06-30T12:35:43.599Z"
   },
   {
    "duration": 91,
    "start_time": "2023-06-30T12:35:48.190Z"
   },
   {
    "duration": 109,
    "start_time": "2023-06-30T12:36:13.010Z"
   },
   {
    "duration": 139,
    "start_time": "2023-06-30T12:39:02.702Z"
   },
   {
    "duration": 4,
    "start_time": "2023-06-30T12:39:42.320Z"
   },
   {
    "duration": 4,
    "start_time": "2023-06-30T12:39:52.305Z"
   },
   {
    "duration": 5,
    "start_time": "2023-06-30T12:41:14.020Z"
   },
   {
    "duration": 5,
    "start_time": "2023-06-30T12:41:21.732Z"
   },
   {
    "duration": 13,
    "start_time": "2023-06-30T12:42:15.695Z"
   },
   {
    "duration": 9,
    "start_time": "2023-06-30T12:42:51.825Z"
   },
   {
    "duration": 621,
    "start_time": "2023-06-30T12:43:12.288Z"
   },
   {
    "duration": 28,
    "start_time": "2023-06-30T12:43:12.911Z"
   },
   {
    "duration": 12,
    "start_time": "2023-06-30T12:43:12.940Z"
   },
   {
    "duration": 277,
    "start_time": "2023-06-30T12:43:12.954Z"
   },
   {
    "duration": 12,
    "start_time": "2023-06-30T12:43:13.233Z"
   },
   {
    "duration": 31,
    "start_time": "2023-06-30T12:43:13.247Z"
   },
   {
    "duration": 10,
    "start_time": "2023-06-30T12:43:13.280Z"
   },
   {
    "duration": 322,
    "start_time": "2023-06-30T12:43:13.291Z"
   },
   {
    "duration": 11,
    "start_time": "2023-06-30T12:43:13.615Z"
   },
   {
    "duration": 15,
    "start_time": "2023-06-30T12:43:13.628Z"
   },
   {
    "duration": 7,
    "start_time": "2023-06-30T12:43:13.645Z"
   },
   {
    "duration": 370,
    "start_time": "2023-06-30T12:43:13.653Z"
   },
   {
    "duration": 13,
    "start_time": "2023-06-30T12:43:14.025Z"
   },
   {
    "duration": 21,
    "start_time": "2023-06-30T12:43:14.041Z"
   },
   {
    "duration": 8,
    "start_time": "2023-06-30T12:43:14.068Z"
   },
   {
    "duration": 7,
    "start_time": "2023-06-30T12:43:14.078Z"
   },
   {
    "duration": 12,
    "start_time": "2023-06-30T12:43:14.087Z"
   },
   {
    "duration": 7,
    "start_time": "2023-06-30T12:43:14.101Z"
   },
   {
    "duration": 12,
    "start_time": "2023-06-30T12:43:14.110Z"
   },
   {
    "duration": 50,
    "start_time": "2023-06-30T12:43:14.124Z"
   },
   {
    "duration": 16,
    "start_time": "2023-06-30T12:43:14.176Z"
   },
   {
    "duration": 9,
    "start_time": "2023-06-30T12:43:14.194Z"
   },
   {
    "duration": 12,
    "start_time": "2023-06-30T12:43:14.205Z"
   },
   {
    "duration": 13,
    "start_time": "2023-06-30T12:43:14.219Z"
   },
   {
    "duration": 85,
    "start_time": "2023-06-30T12:43:14.234Z"
   },
   {
    "duration": 0,
    "start_time": "2023-06-30T12:43:14.320Z"
   },
   {
    "duration": 0,
    "start_time": "2023-06-30T12:43:14.322Z"
   },
   {
    "duration": 0,
    "start_time": "2023-06-30T12:43:14.323Z"
   },
   {
    "duration": 0,
    "start_time": "2023-06-30T12:43:14.324Z"
   },
   {
    "duration": 160,
    "start_time": "2023-06-30T12:44:44.765Z"
   },
   {
    "duration": 6,
    "start_time": "2023-06-30T12:44:50.568Z"
   },
   {
    "duration": 84,
    "start_time": "2023-06-30T12:44:51.256Z"
   },
   {
    "duration": 4,
    "start_time": "2023-06-30T12:44:55.166Z"
   },
   {
    "duration": 138,
    "start_time": "2023-06-30T12:44:56.838Z"
   },
   {
    "duration": 45,
    "start_time": "2023-06-30T14:13:12.807Z"
   },
   {
    "duration": 989,
    "start_time": "2023-06-30T14:13:52.237Z"
   },
   {
    "duration": 152,
    "start_time": "2023-06-30T14:13:53.228Z"
   },
   {
    "duration": 21,
    "start_time": "2023-06-30T14:13:53.394Z"
   },
   {
    "duration": 463,
    "start_time": "2023-06-30T14:13:53.419Z"
   },
   {
    "duration": 16,
    "start_time": "2023-06-30T14:13:53.884Z"
   },
   {
    "duration": 503,
    "start_time": "2023-06-30T14:13:53.902Z"
   },
   {
    "duration": 12,
    "start_time": "2023-06-30T14:13:54.407Z"
   },
   {
    "duration": 411,
    "start_time": "2023-06-30T14:13:54.422Z"
   },
   {
    "duration": 34,
    "start_time": "2023-06-30T14:13:54.835Z"
   },
   {
    "duration": 73,
    "start_time": "2023-06-30T14:13:54.876Z"
   },
   {
    "duration": 11,
    "start_time": "2023-06-30T14:13:54.951Z"
   },
   {
    "duration": 424,
    "start_time": "2023-06-30T14:13:54.966Z"
   },
   {
    "duration": 11,
    "start_time": "2023-06-30T14:13:55.395Z"
   },
   {
    "duration": 21,
    "start_time": "2023-06-30T14:13:55.408Z"
   },
   {
    "duration": 17,
    "start_time": "2023-06-30T14:13:55.431Z"
   },
   {
    "duration": 34,
    "start_time": "2023-06-30T14:13:55.450Z"
   },
   {
    "duration": 25,
    "start_time": "2023-06-30T14:13:55.486Z"
   },
   {
    "duration": 31,
    "start_time": "2023-06-30T14:13:55.513Z"
   },
   {
    "duration": 18,
    "start_time": "2023-06-30T14:13:55.546Z"
   },
   {
    "duration": 19,
    "start_time": "2023-06-30T14:13:55.573Z"
   },
   {
    "duration": 15,
    "start_time": "2023-06-30T14:13:55.596Z"
   },
   {
    "duration": 17,
    "start_time": "2023-06-30T14:13:55.613Z"
   },
   {
    "duration": 9,
    "start_time": "2023-06-30T14:13:55.632Z"
   },
   {
    "duration": 38,
    "start_time": "2023-06-30T14:13:55.643Z"
   },
   {
    "duration": 203,
    "start_time": "2023-06-30T14:13:55.682Z"
   },
   {
    "duration": 9,
    "start_time": "2023-06-30T14:13:55.887Z"
   },
   {
    "duration": 117,
    "start_time": "2023-06-30T14:13:55.900Z"
   },
   {
    "duration": 5,
    "start_time": "2023-06-30T14:13:56.020Z"
   },
   {
    "duration": 201,
    "start_time": "2023-06-30T14:13:56.028Z"
   },
   {
    "duration": 5,
    "start_time": "2023-06-30T14:13:56.231Z"
   },
   {
    "duration": 6,
    "start_time": "2023-06-30T14:14:44.110Z"
   },
   {
    "duration": 254,
    "start_time": "2023-06-30T14:15:24.351Z"
   },
   {
    "duration": 216,
    "start_time": "2023-06-30T14:17:15.837Z"
   },
   {
    "duration": 195,
    "start_time": "2023-06-30T14:20:18.634Z"
   },
   {
    "duration": 6,
    "start_time": "2023-06-30T14:23:07.298Z"
   },
   {
    "duration": 181,
    "start_time": "2023-06-30T14:24:42.683Z"
   },
   {
    "duration": 161,
    "start_time": "2023-06-30T14:25:10.888Z"
   },
   {
    "duration": 156,
    "start_time": "2023-06-30T14:25:36.589Z"
   },
   {
    "duration": 5,
    "start_time": "2023-06-30T14:30:06.901Z"
   },
   {
    "duration": 159,
    "start_time": "2023-06-30T14:30:07.089Z"
   },
   {
    "duration": 10,
    "start_time": "2023-06-30T14:30:15.974Z"
   },
   {
    "duration": 282,
    "start_time": "2023-06-30T14:30:16.602Z"
   },
   {
    "duration": 814,
    "start_time": "2023-06-30T14:30:23.950Z"
   },
   {
    "duration": 41,
    "start_time": "2023-06-30T14:30:24.766Z"
   },
   {
    "duration": 14,
    "start_time": "2023-06-30T14:30:24.809Z"
   },
   {
    "duration": 343,
    "start_time": "2023-06-30T14:30:24.826Z"
   },
   {
    "duration": 16,
    "start_time": "2023-06-30T14:30:25.176Z"
   },
   {
    "duration": 57,
    "start_time": "2023-06-30T14:30:25.193Z"
   },
   {
    "duration": 34,
    "start_time": "2023-06-30T14:30:25.252Z"
   },
   {
    "duration": 412,
    "start_time": "2023-06-30T14:30:25.288Z"
   },
   {
    "duration": 13,
    "start_time": "2023-06-30T14:30:25.702Z"
   },
   {
    "duration": 34,
    "start_time": "2023-06-30T14:30:25.716Z"
   },
   {
    "duration": 28,
    "start_time": "2023-06-30T14:30:25.752Z"
   },
   {
    "duration": 450,
    "start_time": "2023-06-30T14:30:25.783Z"
   },
   {
    "duration": 12,
    "start_time": "2023-06-30T14:30:26.235Z"
   },
   {
    "duration": 39,
    "start_time": "2023-06-30T14:30:26.265Z"
   },
   {
    "duration": 27,
    "start_time": "2023-06-30T14:30:26.307Z"
   },
   {
    "duration": 63,
    "start_time": "2023-06-30T14:30:26.336Z"
   },
   {
    "duration": 39,
    "start_time": "2023-06-30T14:30:26.401Z"
   },
   {
    "duration": 12,
    "start_time": "2023-06-30T14:30:26.442Z"
   },
   {
    "duration": 88,
    "start_time": "2023-06-30T14:30:26.455Z"
   },
   {
    "duration": 33,
    "start_time": "2023-06-30T14:30:26.545Z"
   },
   {
    "duration": 17,
    "start_time": "2023-06-30T14:30:26.580Z"
   },
   {
    "duration": 32,
    "start_time": "2023-06-30T14:30:26.599Z"
   },
   {
    "duration": 17,
    "start_time": "2023-06-30T14:30:26.633Z"
   },
   {
    "duration": 38,
    "start_time": "2023-06-30T14:30:26.651Z"
   },
   {
    "duration": 255,
    "start_time": "2023-06-30T14:30:26.691Z"
   },
   {
    "duration": 11,
    "start_time": "2023-06-30T14:30:26.949Z"
   },
   {
    "duration": 117,
    "start_time": "2023-06-30T14:30:26.962Z"
   },
   {
    "duration": 6,
    "start_time": "2023-06-30T14:30:27.081Z"
   },
   {
    "duration": 181,
    "start_time": "2023-06-30T14:30:27.091Z"
   },
   {
    "duration": 14,
    "start_time": "2023-06-30T14:30:27.274Z"
   },
   {
    "duration": 199,
    "start_time": "2023-06-30T14:30:27.292Z"
   },
   {
    "duration": 6,
    "start_time": "2023-06-30T14:30:27.494Z"
   },
   {
    "duration": 191,
    "start_time": "2023-06-30T14:30:27.502Z"
   },
   {
    "duration": 13,
    "start_time": "2023-06-30T14:49:54.713Z"
   },
   {
    "duration": 21,
    "start_time": "2023-06-30T14:49:56.080Z"
   },
   {
    "duration": 22,
    "start_time": "2023-06-30T14:50:04.681Z"
   },
   {
    "duration": 243,
    "start_time": "2023-06-30T14:50:43.157Z"
   },
   {
    "duration": 37,
    "start_time": "2023-06-30T14:54:05.484Z"
   },
   {
    "duration": 20,
    "start_time": "2023-06-30T14:54:18.397Z"
   },
   {
    "duration": 1778,
    "start_time": "2023-06-30T14:57:16.880Z"
   },
   {
    "duration": 8,
    "start_time": "2023-06-30T14:58:39.834Z"
   },
   {
    "duration": 21,
    "start_time": "2023-06-30T14:58:46.797Z"
   },
   {
    "duration": 666,
    "start_time": "2023-06-30T14:59:54.308Z"
   },
   {
    "duration": 29,
    "start_time": "2023-06-30T14:59:54.982Z"
   },
   {
    "duration": 11,
    "start_time": "2023-06-30T14:59:55.012Z"
   },
   {
    "duration": 291,
    "start_time": "2023-06-30T14:59:55.025Z"
   },
   {
    "duration": 11,
    "start_time": "2023-06-30T14:59:55.318Z"
   },
   {
    "duration": 54,
    "start_time": "2023-06-30T14:59:55.331Z"
   },
   {
    "duration": 10,
    "start_time": "2023-06-30T14:59:55.392Z"
   },
   {
    "duration": 416,
    "start_time": "2023-06-30T14:59:55.404Z"
   },
   {
    "duration": 11,
    "start_time": "2023-06-30T14:59:55.822Z"
   },
   {
    "duration": 56,
    "start_time": "2023-06-30T14:59:55.834Z"
   },
   {
    "duration": 16,
    "start_time": "2023-06-30T14:59:55.892Z"
   },
   {
    "duration": 498,
    "start_time": "2023-06-30T14:59:55.910Z"
   },
   {
    "duration": 12,
    "start_time": "2023-06-30T14:59:56.410Z"
   },
   {
    "duration": 19,
    "start_time": "2023-06-30T14:59:56.425Z"
   },
   {
    "duration": 14,
    "start_time": "2023-06-30T14:59:56.461Z"
   },
   {
    "duration": 33,
    "start_time": "2023-06-30T14:59:56.477Z"
   },
   {
    "duration": 18,
    "start_time": "2023-06-30T14:59:56.513Z"
   },
   {
    "duration": 11,
    "start_time": "2023-06-30T14:59:56.533Z"
   },
   {
    "duration": 29,
    "start_time": "2023-06-30T14:59:56.545Z"
   },
   {
    "duration": 17,
    "start_time": "2023-06-30T14:59:56.575Z"
   },
   {
    "duration": 12,
    "start_time": "2023-06-30T14:59:56.594Z"
   },
   {
    "duration": 11,
    "start_time": "2023-06-30T14:59:56.608Z"
   },
   {
    "duration": 6,
    "start_time": "2023-06-30T14:59:56.621Z"
   },
   {
    "duration": 8,
    "start_time": "2023-06-30T14:59:56.629Z"
   },
   {
    "duration": 187,
    "start_time": "2023-06-30T14:59:56.639Z"
   },
   {
    "duration": 8,
    "start_time": "2023-06-30T14:59:56.828Z"
   },
   {
    "duration": 113,
    "start_time": "2023-06-30T14:59:56.837Z"
   },
   {
    "duration": 15,
    "start_time": "2023-06-30T14:59:56.952Z"
   },
   {
    "duration": 166,
    "start_time": "2023-06-30T14:59:56.984Z"
   },
   {
    "duration": 10,
    "start_time": "2023-06-30T14:59:57.152Z"
   },
   {
    "duration": 191,
    "start_time": "2023-06-30T14:59:57.165Z"
   },
   {
    "duration": 11,
    "start_time": "2023-06-30T14:59:57.358Z"
   },
   {
    "duration": 187,
    "start_time": "2023-06-30T14:59:57.375Z"
   },
   {
    "duration": 21,
    "start_time": "2023-06-30T14:59:57.563Z"
   },
   {
    "duration": 17,
    "start_time": "2023-06-30T14:59:57.590Z"
   },
   {
    "duration": 20,
    "start_time": "2023-06-30T14:59:57.609Z"
   },
   {
    "duration": 38,
    "start_time": "2023-06-30T14:59:57.631Z"
   },
   {
    "duration": 7,
    "start_time": "2023-06-30T14:59:57.671Z"
   },
   {
    "duration": 20,
    "start_time": "2023-06-30T15:00:07.116Z"
   },
   {
    "duration": 11,
    "start_time": "2023-06-30T15:00:36.957Z"
   },
   {
    "duration": 194,
    "start_time": "2023-06-30T15:05:29.220Z"
   },
   {
    "duration": 184,
    "start_time": "2023-06-30T15:06:49.341Z"
   },
   {
    "duration": 167,
    "start_time": "2023-06-30T15:07:06.600Z"
   },
   {
    "duration": 170,
    "start_time": "2023-06-30T15:07:12.884Z"
   },
   {
    "duration": 203,
    "start_time": "2023-06-30T15:08:13.009Z"
   },
   {
    "duration": 188,
    "start_time": "2023-06-30T15:08:27.896Z"
   },
   {
    "duration": 191,
    "start_time": "2023-06-30T15:08:39.243Z"
   },
   {
    "duration": 202,
    "start_time": "2023-06-30T15:12:04.749Z"
   },
   {
    "duration": 187,
    "start_time": "2023-06-30T15:12:32.126Z"
   },
   {
    "duration": 163,
    "start_time": "2023-06-30T15:15:21.692Z"
   },
   {
    "duration": 249,
    "start_time": "2023-06-30T15:15:32.328Z"
   },
   {
    "duration": 190,
    "start_time": "2023-06-30T15:15:42.941Z"
   },
   {
    "duration": 170,
    "start_time": "2023-06-30T15:15:57.549Z"
   },
   {
    "duration": 687,
    "start_time": "2023-06-30T15:16:45.390Z"
   },
   {
    "duration": 34,
    "start_time": "2023-06-30T15:16:46.079Z"
   },
   {
    "duration": 13,
    "start_time": "2023-06-30T15:16:46.114Z"
   },
   {
    "duration": 282,
    "start_time": "2023-06-30T15:16:46.130Z"
   },
   {
    "duration": 11,
    "start_time": "2023-06-30T15:16:46.413Z"
   },
   {
    "duration": 31,
    "start_time": "2023-06-30T15:16:46.425Z"
   },
   {
    "duration": 22,
    "start_time": "2023-06-30T15:16:46.457Z"
   },
   {
    "duration": 338,
    "start_time": "2023-06-30T15:16:46.484Z"
   },
   {
    "duration": 13,
    "start_time": "2023-06-30T15:16:46.824Z"
   },
   {
    "duration": 21,
    "start_time": "2023-06-30T15:16:46.839Z"
   },
   {
    "duration": 11,
    "start_time": "2023-06-30T15:16:46.864Z"
   },
   {
    "duration": 406,
    "start_time": "2023-06-30T15:16:46.877Z"
   },
   {
    "duration": 12,
    "start_time": "2023-06-30T15:16:47.284Z"
   },
   {
    "duration": 12,
    "start_time": "2023-06-30T15:16:47.297Z"
   },
   {
    "duration": 11,
    "start_time": "2023-06-30T15:16:47.311Z"
   },
   {
    "duration": 7,
    "start_time": "2023-06-30T15:16:47.324Z"
   },
   {
    "duration": 27,
    "start_time": "2023-06-30T15:16:47.332Z"
   },
   {
    "duration": 13,
    "start_time": "2023-06-30T15:16:47.364Z"
   },
   {
    "duration": 25,
    "start_time": "2023-06-30T15:16:47.379Z"
   },
   {
    "duration": 5,
    "start_time": "2023-06-30T15:16:47.406Z"
   },
   {
    "duration": 9,
    "start_time": "2023-06-30T15:16:47.412Z"
   },
   {
    "duration": 42,
    "start_time": "2023-06-30T15:16:47.422Z"
   },
   {
    "duration": 22,
    "start_time": "2023-06-30T15:16:47.471Z"
   },
   {
    "duration": 8,
    "start_time": "2023-06-30T15:16:47.495Z"
   },
   {
    "duration": 187,
    "start_time": "2023-06-30T15:16:47.504Z"
   },
   {
    "duration": 6,
    "start_time": "2023-06-30T15:16:47.697Z"
   },
   {
    "duration": 111,
    "start_time": "2023-06-30T15:16:47.707Z"
   },
   {
    "duration": 4,
    "start_time": "2023-06-30T15:16:47.821Z"
   },
   {
    "duration": 169,
    "start_time": "2023-06-30T15:16:47.827Z"
   },
   {
    "duration": 5,
    "start_time": "2023-06-30T15:16:47.998Z"
   },
   {
    "duration": 172,
    "start_time": "2023-06-30T15:16:48.004Z"
   },
   {
    "duration": 8,
    "start_time": "2023-06-30T15:16:48.184Z"
   },
   {
    "duration": 160,
    "start_time": "2023-06-30T15:16:48.194Z"
   },
   {
    "duration": 24,
    "start_time": "2023-06-30T15:16:48.356Z"
   },
   {
    "duration": 28,
    "start_time": "2023-06-30T15:16:48.382Z"
   },
   {
    "duration": 22,
    "start_time": "2023-06-30T15:16:48.412Z"
   },
   {
    "duration": 42,
    "start_time": "2023-06-30T15:16:48.436Z"
   },
   {
    "duration": 24,
    "start_time": "2023-06-30T15:16:48.486Z"
   },
   {
    "duration": 210,
    "start_time": "2023-06-30T15:16:48.511Z"
   },
   {
    "duration": 218,
    "start_time": "2023-06-30T15:16:48.723Z"
   },
   {
    "duration": 220,
    "start_time": "2023-06-30T15:16:48.943Z"
   },
   {
    "duration": 222,
    "start_time": "2023-06-30T15:16:49.167Z"
   },
   {
    "duration": 45,
    "start_time": "2023-07-01T17:36:57.623Z"
   },
   {
    "duration": 783,
    "start_time": "2023-07-01T17:37:09.962Z"
   },
   {
    "duration": 77,
    "start_time": "2023-07-01T17:37:10.747Z"
   },
   {
    "duration": 12,
    "start_time": "2023-07-01T17:37:10.826Z"
   },
   {
    "duration": 242,
    "start_time": "2023-07-01T17:37:10.840Z"
   },
   {
    "duration": 11,
    "start_time": "2023-07-01T17:37:11.083Z"
   },
   {
    "duration": 72,
    "start_time": "2023-07-01T17:37:11.096Z"
   },
   {
    "duration": 9,
    "start_time": "2023-07-01T17:37:11.170Z"
   },
   {
    "duration": 303,
    "start_time": "2023-07-01T17:37:11.181Z"
   },
   {
    "duration": 10,
    "start_time": "2023-07-01T17:37:11.486Z"
   },
   {
    "duration": 59,
    "start_time": "2023-07-01T17:37:11.499Z"
   },
   {
    "duration": 7,
    "start_time": "2023-07-01T17:37:11.560Z"
   },
   {
    "duration": 346,
    "start_time": "2023-07-01T17:37:11.568Z"
   },
   {
    "duration": 9,
    "start_time": "2023-07-01T17:37:11.916Z"
   },
   {
    "duration": 18,
    "start_time": "2023-07-01T17:37:11.926Z"
   },
   {
    "duration": 11,
    "start_time": "2023-07-01T17:37:11.945Z"
   },
   {
    "duration": 18,
    "start_time": "2023-07-01T17:37:11.957Z"
   },
   {
    "duration": 8,
    "start_time": "2023-07-01T17:37:11.977Z"
   },
   {
    "duration": 11,
    "start_time": "2023-07-01T17:37:11.986Z"
   },
   {
    "duration": 11,
    "start_time": "2023-07-01T17:37:11.998Z"
   },
   {
    "duration": 5,
    "start_time": "2023-07-01T17:37:12.010Z"
   },
   {
    "duration": 7,
    "start_time": "2023-07-01T17:37:12.016Z"
   },
   {
    "duration": 6,
    "start_time": "2023-07-01T17:37:12.025Z"
   },
   {
    "duration": 4,
    "start_time": "2023-07-01T17:37:12.033Z"
   },
   {
    "duration": 37,
    "start_time": "2023-07-01T17:37:12.039Z"
   },
   {
    "duration": 140,
    "start_time": "2023-07-01T17:37:12.077Z"
   },
   {
    "duration": 6,
    "start_time": "2023-07-01T17:37:12.219Z"
   },
   {
    "duration": 92,
    "start_time": "2023-07-01T17:37:12.227Z"
   },
   {
    "duration": 4,
    "start_time": "2023-07-01T17:37:12.322Z"
   },
   {
    "duration": 149,
    "start_time": "2023-07-01T17:37:12.328Z"
   },
   {
    "duration": 5,
    "start_time": "2023-07-01T17:37:12.479Z"
   },
   {
    "duration": 145,
    "start_time": "2023-07-01T17:37:12.486Z"
   },
   {
    "duration": 5,
    "start_time": "2023-07-01T17:37:12.632Z"
   },
   {
    "duration": 142,
    "start_time": "2023-07-01T17:37:12.639Z"
   },
   {
    "duration": 11,
    "start_time": "2023-07-01T17:37:12.783Z"
   },
   {
    "duration": 19,
    "start_time": "2023-07-01T17:37:12.795Z"
   },
   {
    "duration": 19,
    "start_time": "2023-07-01T17:37:12.816Z"
   },
   {
    "duration": 44,
    "start_time": "2023-07-01T17:37:12.837Z"
   },
   {
    "duration": 20,
    "start_time": "2023-07-01T17:37:12.883Z"
   },
   {
    "duration": 189,
    "start_time": "2023-07-01T17:37:12.905Z"
   },
   {
    "duration": 196,
    "start_time": "2023-07-01T17:37:13.096Z"
   },
   {
    "duration": 186,
    "start_time": "2023-07-01T17:37:13.294Z"
   },
   {
    "duration": 166,
    "start_time": "2023-07-01T17:37:13.481Z"
   },
   {
    "duration": 813,
    "start_time": "2023-07-01T17:37:13.649Z"
   },
   {
    "duration": 18,
    "start_time": "2023-07-01T17:37:23.835Z"
   },
   {
    "duration": 178,
    "start_time": "2023-07-01T17:39:04.397Z"
   },
   {
    "duration": 20,
    "start_time": "2023-07-01T17:39:06.393Z"
   },
   {
    "duration": 81,
    "start_time": "2023-07-01T17:39:38.171Z"
   },
   {
    "duration": 640,
    "start_time": "2023-07-01T17:39:57.654Z"
   },
   {
    "duration": 29,
    "start_time": "2023-07-01T17:39:58.296Z"
   },
   {
    "duration": 12,
    "start_time": "2023-07-01T17:39:58.327Z"
   },
   {
    "duration": 253,
    "start_time": "2023-07-01T17:39:58.341Z"
   },
   {
    "duration": 11,
    "start_time": "2023-07-01T17:39:58.595Z"
   },
   {
    "duration": 31,
    "start_time": "2023-07-01T17:39:58.607Z"
   },
   {
    "duration": 9,
    "start_time": "2023-07-01T17:39:58.639Z"
   },
   {
    "duration": 303,
    "start_time": "2023-07-01T17:39:58.650Z"
   },
   {
    "duration": 21,
    "start_time": "2023-07-01T17:39:58.954Z"
   },
   {
    "duration": 16,
    "start_time": "2023-07-01T17:39:58.977Z"
   },
   {
    "duration": 6,
    "start_time": "2023-07-01T17:39:58.995Z"
   },
   {
    "duration": 363,
    "start_time": "2023-07-01T17:39:59.003Z"
   },
   {
    "duration": 14,
    "start_time": "2023-07-01T17:39:59.369Z"
   },
   {
    "duration": 11,
    "start_time": "2023-07-01T17:39:59.384Z"
   },
   {
    "duration": 9,
    "start_time": "2023-07-01T17:39:59.396Z"
   },
   {
    "duration": 9,
    "start_time": "2023-07-01T17:39:59.407Z"
   },
   {
    "duration": 10,
    "start_time": "2023-07-01T17:39:59.418Z"
   },
   {
    "duration": 10,
    "start_time": "2023-07-01T17:39:59.429Z"
   },
   {
    "duration": 14,
    "start_time": "2023-07-01T17:39:59.440Z"
   },
   {
    "duration": 5,
    "start_time": "2023-07-01T17:39:59.475Z"
   },
   {
    "duration": 23,
    "start_time": "2023-07-01T17:39:59.482Z"
   },
   {
    "duration": 13,
    "start_time": "2023-07-01T17:39:59.506Z"
   },
   {
    "duration": 6,
    "start_time": "2023-07-01T17:39:59.521Z"
   },
   {
    "duration": 17,
    "start_time": "2023-07-01T17:39:59.529Z"
   },
   {
    "duration": 152,
    "start_time": "2023-07-01T17:39:59.548Z"
   },
   {
    "duration": 6,
    "start_time": "2023-07-01T17:39:59.702Z"
   },
   {
    "duration": 111,
    "start_time": "2023-07-01T17:39:59.710Z"
   },
   {
    "duration": 4,
    "start_time": "2023-07-01T17:39:59.824Z"
   },
   {
    "duration": 175,
    "start_time": "2023-07-01T17:39:59.830Z"
   },
   {
    "duration": 5,
    "start_time": "2023-07-01T17:40:00.007Z"
   },
   {
    "duration": 171,
    "start_time": "2023-07-01T17:40:00.014Z"
   },
   {
    "duration": 6,
    "start_time": "2023-07-01T17:40:00.186Z"
   },
   {
    "duration": 154,
    "start_time": "2023-07-01T17:40:00.194Z"
   },
   {
    "duration": 10,
    "start_time": "2023-07-01T17:40:00.350Z"
   },
   {
    "duration": 48,
    "start_time": "2023-07-01T17:40:00.361Z"
   },
   {
    "duration": 62,
    "start_time": "2023-07-01T17:40:00.410Z"
   },
   {
    "duration": 37,
    "start_time": "2023-07-01T17:40:00.474Z"
   },
   {
    "duration": 47,
    "start_time": "2023-07-01T17:40:00.513Z"
   },
   {
    "duration": 191,
    "start_time": "2023-07-01T17:40:00.562Z"
   },
   {
    "duration": 180,
    "start_time": "2023-07-01T17:40:00.754Z"
   },
   {
    "duration": 186,
    "start_time": "2023-07-01T17:40:00.936Z"
   },
   {
    "duration": 171,
    "start_time": "2023-07-01T17:40:01.124Z"
   },
   {
    "duration": 224,
    "start_time": "2023-07-01T17:40:01.297Z"
   },
   {
    "duration": 15,
    "start_time": "2023-07-01T17:40:01.523Z"
   },
   {
    "duration": 659,
    "start_time": "2023-07-01T17:40:45.891Z"
   },
   {
    "duration": 29,
    "start_time": "2023-07-01T17:40:46.552Z"
   },
   {
    "duration": 11,
    "start_time": "2023-07-01T17:40:46.583Z"
   },
   {
    "duration": 243,
    "start_time": "2023-07-01T17:40:46.596Z"
   },
   {
    "duration": 10,
    "start_time": "2023-07-01T17:40:46.841Z"
   },
   {
    "duration": 35,
    "start_time": "2023-07-01T17:40:46.852Z"
   },
   {
    "duration": 11,
    "start_time": "2023-07-01T17:40:46.889Z"
   },
   {
    "duration": 288,
    "start_time": "2023-07-01T17:40:46.901Z"
   },
   {
    "duration": 11,
    "start_time": "2023-07-01T17:40:47.190Z"
   },
   {
    "duration": 17,
    "start_time": "2023-07-01T17:40:47.204Z"
   },
   {
    "duration": 7,
    "start_time": "2023-07-01T17:40:47.222Z"
   },
   {
    "duration": 321,
    "start_time": "2023-07-01T17:40:47.231Z"
   },
   {
    "duration": 9,
    "start_time": "2023-07-01T17:40:47.554Z"
   },
   {
    "duration": 6,
    "start_time": "2023-07-01T17:40:47.575Z"
   },
   {
    "duration": 9,
    "start_time": "2023-07-01T17:40:47.582Z"
   },
   {
    "duration": 6,
    "start_time": "2023-07-01T17:40:47.592Z"
   },
   {
    "duration": 11,
    "start_time": "2023-07-01T17:40:47.600Z"
   },
   {
    "duration": 8,
    "start_time": "2023-07-01T17:40:47.612Z"
   },
   {
    "duration": 12,
    "start_time": "2023-07-01T17:40:47.622Z"
   },
   {
    "duration": 6,
    "start_time": "2023-07-01T17:40:47.635Z"
   },
   {
    "duration": 7,
    "start_time": "2023-07-01T17:40:47.675Z"
   },
   {
    "duration": 8,
    "start_time": "2023-07-01T17:40:47.684Z"
   },
   {
    "duration": 5,
    "start_time": "2023-07-01T17:40:47.693Z"
   },
   {
    "duration": 6,
    "start_time": "2023-07-01T17:40:47.700Z"
   },
   {
    "duration": 160,
    "start_time": "2023-07-01T17:40:47.707Z"
   },
   {
    "duration": 9,
    "start_time": "2023-07-01T17:40:47.869Z"
   },
   {
    "duration": 111,
    "start_time": "2023-07-01T17:40:47.880Z"
   },
   {
    "duration": 4,
    "start_time": "2023-07-01T17:40:47.995Z"
   },
   {
    "duration": 174,
    "start_time": "2023-07-01T17:40:48.001Z"
   },
   {
    "duration": 5,
    "start_time": "2023-07-01T17:40:48.177Z"
   },
   {
    "duration": 229,
    "start_time": "2023-07-01T17:40:48.184Z"
   },
   {
    "duration": 6,
    "start_time": "2023-07-01T17:40:48.416Z"
   },
   {
    "duration": 178,
    "start_time": "2023-07-01T17:40:48.424Z"
   },
   {
    "duration": 13,
    "start_time": "2023-07-01T17:40:48.604Z"
   },
   {
    "duration": 11,
    "start_time": "2023-07-01T17:40:48.619Z"
   },
   {
    "duration": 21,
    "start_time": "2023-07-01T17:40:48.631Z"
   },
   {
    "duration": 30,
    "start_time": "2023-07-01T17:40:48.676Z"
   },
   {
    "duration": 23,
    "start_time": "2023-07-01T17:40:48.708Z"
   },
   {
    "duration": 210,
    "start_time": "2023-07-01T17:40:48.733Z"
   },
   {
    "duration": 190,
    "start_time": "2023-07-01T17:40:48.945Z"
   },
   {
    "duration": 216,
    "start_time": "2023-07-01T17:40:49.136Z"
   },
   {
    "duration": 174,
    "start_time": "2023-07-01T17:40:49.354Z"
   },
   {
    "duration": 210,
    "start_time": "2023-07-01T17:40:49.530Z"
   },
   {
    "duration": 14,
    "start_time": "2023-07-01T17:40:49.741Z"
   },
   {
    "duration": 30,
    "start_time": "2023-07-01T17:42:18.371Z"
   },
   {
    "duration": 15,
    "start_time": "2023-07-01T17:42:20.479Z"
   },
   {
    "duration": 168,
    "start_time": "2023-07-01T17:42:44.255Z"
   },
   {
    "duration": 15,
    "start_time": "2023-07-01T17:42:48.629Z"
   },
   {
    "duration": 11,
    "start_time": "2023-07-01T17:43:34.678Z"
   },
   {
    "duration": 13,
    "start_time": "2023-07-01T17:43:42.353Z"
   },
   {
    "duration": 811,
    "start_time": "2023-07-01T17:44:25.270Z"
   },
   {
    "duration": 19,
    "start_time": "2023-07-01T17:44:26.846Z"
   },
   {
    "duration": 14,
    "start_time": "2023-07-01T17:44:54.562Z"
   },
   {
    "duration": 13,
    "start_time": "2023-07-01T17:45:11.801Z"
   },
   {
    "duration": 14,
    "start_time": "2023-07-01T17:45:17.466Z"
   },
   {
    "duration": 75,
    "start_time": "2023-07-01T17:45:36.934Z"
   },
   {
    "duration": 181,
    "start_time": "2023-07-01T17:45:41.786Z"
   },
   {
    "duration": 15,
    "start_time": "2023-07-01T17:45:43.527Z"
   },
   {
    "duration": 796,
    "start_time": "2023-07-01T17:46:13.550Z"
   },
   {
    "duration": 14,
    "start_time": "2023-07-01T17:46:15.673Z"
   },
   {
    "duration": 7,
    "start_time": "2023-07-01T17:47:36.517Z"
   },
   {
    "duration": 4,
    "start_time": "2023-07-01T17:47:45.147Z"
   },
   {
    "duration": 9,
    "start_time": "2023-07-01T17:47:54.501Z"
   },
   {
    "duration": 11,
    "start_time": "2023-07-01T17:49:01.451Z"
   },
   {
    "duration": 16,
    "start_time": "2023-07-01T17:49:17.303Z"
   },
   {
    "duration": 14,
    "start_time": "2023-07-01T17:49:28.030Z"
   },
   {
    "duration": 9,
    "start_time": "2023-07-01T17:49:42.688Z"
   },
   {
    "duration": 13,
    "start_time": "2023-07-01T17:49:50.178Z"
   },
   {
    "duration": 12,
    "start_time": "2023-07-01T17:50:10.757Z"
   },
   {
    "duration": 15,
    "start_time": "2023-07-01T17:50:25.501Z"
   },
   {
    "duration": 10,
    "start_time": "2023-07-01T17:50:27.711Z"
   },
   {
    "duration": 11,
    "start_time": "2023-07-01T17:51:37.471Z"
   },
   {
    "duration": 11,
    "start_time": "2023-07-01T17:51:58.635Z"
   },
   {
    "duration": 11,
    "start_time": "2023-07-01T17:52:27.814Z"
   },
   {
    "duration": 8,
    "start_time": "2023-07-01T17:53:27.415Z"
   },
   {
    "duration": 677,
    "start_time": "2023-07-01T17:54:03.052Z"
   },
   {
    "duration": 30,
    "start_time": "2023-07-01T17:54:03.731Z"
   },
   {
    "duration": 13,
    "start_time": "2023-07-01T17:54:03.763Z"
   },
   {
    "duration": 278,
    "start_time": "2023-07-01T17:54:03.778Z"
   },
   {
    "duration": 20,
    "start_time": "2023-07-01T17:54:04.057Z"
   },
   {
    "duration": 29,
    "start_time": "2023-07-01T17:54:04.078Z"
   },
   {
    "duration": 9,
    "start_time": "2023-07-01T17:54:04.108Z"
   },
   {
    "duration": 284,
    "start_time": "2023-07-01T17:54:04.118Z"
   },
   {
    "duration": 10,
    "start_time": "2023-07-01T17:54:04.403Z"
   },
   {
    "duration": 22,
    "start_time": "2023-07-01T17:54:04.415Z"
   },
   {
    "duration": 6,
    "start_time": "2023-07-01T17:54:04.438Z"
   },
   {
    "duration": 374,
    "start_time": "2023-07-01T17:54:04.446Z"
   },
   {
    "duration": 10,
    "start_time": "2023-07-01T17:54:04.822Z"
   },
   {
    "duration": 8,
    "start_time": "2023-07-01T17:54:04.833Z"
   },
   {
    "duration": 10,
    "start_time": "2023-07-01T17:54:04.842Z"
   },
   {
    "duration": 22,
    "start_time": "2023-07-01T17:54:04.854Z"
   },
   {
    "duration": 11,
    "start_time": "2023-07-01T17:54:04.877Z"
   },
   {
    "duration": 6,
    "start_time": "2023-07-01T17:54:04.890Z"
   },
   {
    "duration": 10,
    "start_time": "2023-07-01T17:54:04.898Z"
   },
   {
    "duration": 8,
    "start_time": "2023-07-01T17:54:04.910Z"
   },
   {
    "duration": 9,
    "start_time": "2023-07-01T17:54:04.920Z"
   },
   {
    "duration": 7,
    "start_time": "2023-07-01T17:54:04.931Z"
   },
   {
    "duration": 36,
    "start_time": "2023-07-01T17:54:04.940Z"
   },
   {
    "duration": 11,
    "start_time": "2023-07-01T17:54:04.978Z"
   },
   {
    "duration": 139,
    "start_time": "2023-07-01T17:54:04.990Z"
   },
   {
    "duration": 5,
    "start_time": "2023-07-01T17:54:05.130Z"
   },
   {
    "duration": 91,
    "start_time": "2023-07-01T17:54:05.136Z"
   },
   {
    "duration": 4,
    "start_time": "2023-07-01T17:54:05.233Z"
   },
   {
    "duration": 146,
    "start_time": "2023-07-01T17:54:05.239Z"
   },
   {
    "duration": 5,
    "start_time": "2023-07-01T17:54:05.386Z"
   },
   {
    "duration": 145,
    "start_time": "2023-07-01T17:54:05.392Z"
   },
   {
    "duration": 4,
    "start_time": "2023-07-01T17:54:05.539Z"
   },
   {
    "duration": 144,
    "start_time": "2023-07-01T17:54:05.544Z"
   },
   {
    "duration": 11,
    "start_time": "2023-07-01T17:54:05.690Z"
   },
   {
    "duration": 9,
    "start_time": "2023-07-01T17:54:05.703Z"
   },
   {
    "duration": 25,
    "start_time": "2023-07-01T17:54:05.714Z"
   },
   {
    "duration": 49,
    "start_time": "2023-07-01T17:54:05.741Z"
   },
   {
    "duration": 23,
    "start_time": "2023-07-01T17:54:05.792Z"
   },
   {
    "duration": 175,
    "start_time": "2023-07-01T17:54:05.817Z"
   },
   {
    "duration": 164,
    "start_time": "2023-07-01T17:54:05.993Z"
   },
   {
    "duration": 207,
    "start_time": "2023-07-01T17:54:06.158Z"
   },
   {
    "duration": 184,
    "start_time": "2023-07-01T17:54:06.367Z"
   },
   {
    "duration": 807,
    "start_time": "2023-07-01T17:54:06.553Z"
   },
   {
    "duration": 3,
    "start_time": "2023-07-01T17:54:07.362Z"
   },
   {
    "duration": 9,
    "start_time": "2023-07-01T17:54:07.374Z"
   },
   {
    "duration": 10,
    "start_time": "2023-07-01T17:54:07.384Z"
   },
   {
    "duration": 13,
    "start_time": "2023-07-01T17:54:26.733Z"
   },
   {
    "duration": 72,
    "start_time": "2023-07-01T17:59:21.367Z"
   },
   {
    "duration": 3,
    "start_time": "2023-07-01T17:59:35.565Z"
   },
   {
    "duration": 7,
    "start_time": "2023-07-01T17:59:37.125Z"
   },
   {
    "duration": 5,
    "start_time": "2023-07-01T18:00:22.240Z"
   },
   {
    "duration": 8,
    "start_time": "2023-07-01T18:00:22.810Z"
   },
   {
    "duration": 8,
    "start_time": "2023-07-01T18:01:01.868Z"
   },
   {
    "duration": 635,
    "start_time": "2023-07-01T18:01:29.455Z"
   },
   {
    "duration": 30,
    "start_time": "2023-07-01T18:01:30.092Z"
   },
   {
    "duration": 33,
    "start_time": "2023-07-01T18:01:30.124Z"
   },
   {
    "duration": 275,
    "start_time": "2023-07-01T18:01:30.159Z"
   },
   {
    "duration": 12,
    "start_time": "2023-07-01T18:01:30.437Z"
   },
   {
    "duration": 61,
    "start_time": "2023-07-01T18:01:30.450Z"
   },
   {
    "duration": 15,
    "start_time": "2023-07-01T18:01:30.513Z"
   },
   {
    "duration": 319,
    "start_time": "2023-07-01T18:01:30.530Z"
   },
   {
    "duration": 26,
    "start_time": "2023-07-01T18:01:30.850Z"
   },
   {
    "duration": 49,
    "start_time": "2023-07-01T18:01:30.878Z"
   },
   {
    "duration": 38,
    "start_time": "2023-07-01T18:01:30.929Z"
   },
   {
    "duration": 391,
    "start_time": "2023-07-01T18:01:30.969Z"
   },
   {
    "duration": 16,
    "start_time": "2023-07-01T18:01:31.362Z"
   },
   {
    "duration": 47,
    "start_time": "2023-07-01T18:01:31.381Z"
   },
   {
    "duration": 34,
    "start_time": "2023-07-01T18:01:31.430Z"
   },
   {
    "duration": 80,
    "start_time": "2023-07-01T18:01:31.466Z"
   },
   {
    "duration": 52,
    "start_time": "2023-07-01T18:01:31.547Z"
   },
   {
    "duration": 43,
    "start_time": "2023-07-01T18:01:31.601Z"
   },
   {
    "duration": 68,
    "start_time": "2023-07-01T18:01:31.645Z"
   },
   {
    "duration": 33,
    "start_time": "2023-07-01T18:01:31.715Z"
   },
   {
    "duration": 34,
    "start_time": "2023-07-01T18:01:31.749Z"
   },
   {
    "duration": 21,
    "start_time": "2023-07-01T18:01:31.784Z"
   },
   {
    "duration": 16,
    "start_time": "2023-07-01T18:01:31.807Z"
   },
   {
    "duration": 38,
    "start_time": "2023-07-01T18:01:31.824Z"
   },
   {
    "duration": 146,
    "start_time": "2023-07-01T18:01:31.863Z"
   },
   {
    "duration": 5,
    "start_time": "2023-07-01T18:01:32.011Z"
   },
   {
    "duration": 98,
    "start_time": "2023-07-01T18:01:32.018Z"
   },
   {
    "duration": 5,
    "start_time": "2023-07-01T18:01:32.118Z"
   },
   {
    "duration": 149,
    "start_time": "2023-07-01T18:01:32.125Z"
   },
   {
    "duration": 5,
    "start_time": "2023-07-01T18:01:32.276Z"
   },
   {
    "duration": 162,
    "start_time": "2023-07-01T18:01:32.283Z"
   },
   {
    "duration": 5,
    "start_time": "2023-07-01T18:01:32.446Z"
   },
   {
    "duration": 147,
    "start_time": "2023-07-01T18:01:32.453Z"
   },
   {
    "duration": 10,
    "start_time": "2023-07-01T18:01:32.601Z"
   },
   {
    "duration": 9,
    "start_time": "2023-07-01T18:01:32.613Z"
   },
   {
    "duration": 21,
    "start_time": "2023-07-01T18:01:32.623Z"
   },
   {
    "duration": 35,
    "start_time": "2023-07-01T18:01:32.645Z"
   },
   {
    "duration": 17,
    "start_time": "2023-07-01T18:01:32.682Z"
   },
   {
    "duration": 179,
    "start_time": "2023-07-01T18:01:32.701Z"
   },
   {
    "duration": 161,
    "start_time": "2023-07-01T18:01:32.881Z"
   },
   {
    "duration": 185,
    "start_time": "2023-07-01T18:01:33.045Z"
   },
   {
    "duration": 163,
    "start_time": "2023-07-01T18:01:33.232Z"
   },
   {
    "duration": 799,
    "start_time": "2023-07-01T18:01:33.396Z"
   },
   {
    "duration": 4,
    "start_time": "2023-07-01T18:01:34.196Z"
   },
   {
    "duration": 16,
    "start_time": "2023-07-01T18:01:34.201Z"
   },
   {
    "duration": 10,
    "start_time": "2023-07-01T18:01:34.219Z"
   },
   {
    "duration": 90,
    "start_time": "2023-07-01T18:01:34.230Z"
   },
   {
    "duration": 10,
    "start_time": "2023-07-01T18:01:34.322Z"
   },
   {
    "duration": 124,
    "start_time": "2023-07-01T18:01:34.333Z"
   },
   {
    "duration": 21,
    "start_time": "2023-07-01T18:01:50.190Z"
   },
   {
    "duration": 65,
    "start_time": "2023-07-01T18:02:25.771Z"
   },
   {
    "duration": 7,
    "start_time": "2023-07-01T18:02:33.493Z"
   },
   {
    "duration": 7,
    "start_time": "2023-07-01T18:02:56.740Z"
   },
   {
    "duration": 10,
    "start_time": "2023-07-01T18:03:00.636Z"
   },
   {
    "duration": 17,
    "start_time": "2023-07-01T18:03:30.639Z"
   },
   {
    "duration": 10,
    "start_time": "2023-07-01T18:14:02.227Z"
   },
   {
    "duration": 1080,
    "start_time": "2023-07-01T18:14:27.931Z"
   },
   {
    "duration": 30,
    "start_time": "2023-07-01T18:14:29.014Z"
   },
   {
    "duration": 28,
    "start_time": "2023-07-01T18:14:29.046Z"
   },
   {
    "duration": 292,
    "start_time": "2023-07-01T18:14:29.076Z"
   },
   {
    "duration": 11,
    "start_time": "2023-07-01T18:14:29.375Z"
   },
   {
    "duration": 203,
    "start_time": "2023-07-01T18:14:29.388Z"
   },
   {
    "duration": 52,
    "start_time": "2023-07-01T18:14:29.593Z"
   },
   {
    "duration": 359,
    "start_time": "2023-07-01T18:14:29.647Z"
   },
   {
    "duration": 15,
    "start_time": "2023-07-01T18:14:30.008Z"
   },
   {
    "duration": 52,
    "start_time": "2023-07-01T18:14:30.025Z"
   },
   {
    "duration": 26,
    "start_time": "2023-07-01T18:14:30.079Z"
   },
   {
    "duration": 322,
    "start_time": "2023-07-01T18:14:30.107Z"
   },
   {
    "duration": 11,
    "start_time": "2023-07-01T18:14:30.431Z"
   },
   {
    "duration": 61,
    "start_time": "2023-07-01T18:14:30.445Z"
   },
   {
    "duration": 36,
    "start_time": "2023-07-01T18:14:30.508Z"
   },
   {
    "duration": 46,
    "start_time": "2023-07-01T18:14:30.545Z"
   },
   {
    "duration": 66,
    "start_time": "2023-07-01T18:14:30.593Z"
   },
   {
    "duration": 39,
    "start_time": "2023-07-01T18:14:30.660Z"
   },
   {
    "duration": 43,
    "start_time": "2023-07-01T18:14:30.701Z"
   },
   {
    "duration": 38,
    "start_time": "2023-07-01T18:14:30.746Z"
   },
   {
    "duration": 37,
    "start_time": "2023-07-01T18:14:30.785Z"
   },
   {
    "duration": 24,
    "start_time": "2023-07-01T18:14:30.824Z"
   },
   {
    "duration": 33,
    "start_time": "2023-07-01T18:14:30.850Z"
   },
   {
    "duration": 36,
    "start_time": "2023-07-01T18:14:30.884Z"
   },
   {
    "duration": 178,
    "start_time": "2023-07-01T18:14:30.922Z"
   },
   {
    "duration": 7,
    "start_time": "2023-07-01T18:14:31.101Z"
   },
   {
    "duration": 147,
    "start_time": "2023-07-01T18:14:31.110Z"
   },
   {
    "duration": 5,
    "start_time": "2023-07-01T18:14:31.259Z"
   },
   {
    "duration": 161,
    "start_time": "2023-07-01T18:14:31.266Z"
   },
   {
    "duration": 5,
    "start_time": "2023-07-01T18:14:31.429Z"
   },
   {
    "duration": 159,
    "start_time": "2023-07-01T18:14:31.436Z"
   },
   {
    "duration": 6,
    "start_time": "2023-07-01T18:14:31.597Z"
   },
   {
    "duration": 266,
    "start_time": "2023-07-01T18:14:31.609Z"
   },
   {
    "duration": 11,
    "start_time": "2023-07-01T18:14:31.877Z"
   },
   {
    "duration": 25,
    "start_time": "2023-07-01T18:14:31.889Z"
   },
   {
    "duration": 27,
    "start_time": "2023-07-01T18:14:31.915Z"
   },
   {
    "duration": 33,
    "start_time": "2023-07-01T18:14:31.944Z"
   },
   {
    "duration": 19,
    "start_time": "2023-07-01T18:14:31.979Z"
   },
   {
    "duration": 189,
    "start_time": "2023-07-01T18:14:32.000Z"
   },
   {
    "duration": 200,
    "start_time": "2023-07-01T18:14:32.191Z"
   },
   {
    "duration": 201,
    "start_time": "2023-07-01T18:14:32.396Z"
   },
   {
    "duration": 168,
    "start_time": "2023-07-01T18:14:32.598Z"
   },
   {
    "duration": 824,
    "start_time": "2023-07-01T18:14:32.768Z"
   },
   {
    "duration": 4,
    "start_time": "2023-07-01T18:14:33.594Z"
   },
   {
    "duration": 19,
    "start_time": "2023-07-01T18:14:33.600Z"
   },
   {
    "duration": 20,
    "start_time": "2023-07-01T18:14:33.621Z"
   },
   {
    "duration": 21,
    "start_time": "2023-07-01T18:14:33.642Z"
   },
   {
    "duration": 8,
    "start_time": "2023-07-01T18:14:33.665Z"
   },
   {
    "duration": 134,
    "start_time": "2023-07-01T18:14:33.674Z"
   },
   {
    "duration": 18,
    "start_time": "2023-07-01T18:14:33.809Z"
   },
   {
    "duration": 8,
    "start_time": "2023-07-01T18:14:33.829Z"
   },
   {
    "duration": 1186,
    "start_time": "2023-07-01T18:15:36.275Z"
   },
   {
    "duration": 29,
    "start_time": "2023-07-01T18:15:37.463Z"
   },
   {
    "duration": 12,
    "start_time": "2023-07-01T18:15:37.494Z"
   },
   {
    "duration": 236,
    "start_time": "2023-07-01T18:15:37.508Z"
   },
   {
    "duration": 10,
    "start_time": "2023-07-01T18:15:37.746Z"
   },
   {
    "duration": 30,
    "start_time": "2023-07-01T18:15:37.758Z"
   },
   {
    "duration": 9,
    "start_time": "2023-07-01T18:15:37.790Z"
   },
   {
    "duration": 290,
    "start_time": "2023-07-01T18:15:37.800Z"
   },
   {
    "duration": 11,
    "start_time": "2023-07-01T18:15:38.092Z"
   },
   {
    "duration": 15,
    "start_time": "2023-07-01T18:15:38.105Z"
   },
   {
    "duration": 6,
    "start_time": "2023-07-01T18:15:38.122Z"
   },
   {
    "duration": 290,
    "start_time": "2023-07-01T18:15:38.129Z"
   },
   {
    "duration": 9,
    "start_time": "2023-07-01T18:15:38.421Z"
   },
   {
    "duration": 18,
    "start_time": "2023-07-01T18:15:38.432Z"
   },
   {
    "duration": 19,
    "start_time": "2023-07-01T18:15:38.452Z"
   },
   {
    "duration": 8,
    "start_time": "2023-07-01T18:15:38.473Z"
   },
   {
    "duration": 11,
    "start_time": "2023-07-01T18:15:38.483Z"
   },
   {
    "duration": 6,
    "start_time": "2023-07-01T18:15:38.496Z"
   },
   {
    "duration": 12,
    "start_time": "2023-07-01T18:15:38.504Z"
   },
   {
    "duration": 6,
    "start_time": "2023-07-01T18:15:38.517Z"
   },
   {
    "duration": 10,
    "start_time": "2023-07-01T18:15:38.525Z"
   },
   {
    "duration": 42,
    "start_time": "2023-07-01T18:15:38.536Z"
   },
   {
    "duration": 4,
    "start_time": "2023-07-01T18:15:38.580Z"
   },
   {
    "duration": 11,
    "start_time": "2023-07-01T18:15:38.586Z"
   },
   {
    "duration": 144,
    "start_time": "2023-07-01T18:15:38.598Z"
   },
   {
    "duration": 5,
    "start_time": "2023-07-01T18:15:38.743Z"
   },
   {
    "duration": 88,
    "start_time": "2023-07-01T18:15:38.749Z"
   },
   {
    "duration": 4,
    "start_time": "2023-07-01T18:15:38.840Z"
   },
   {
    "duration": 218,
    "start_time": "2023-07-01T18:15:38.845Z"
   },
   {
    "duration": 11,
    "start_time": "2023-07-01T18:15:39.065Z"
   },
   {
    "duration": 146,
    "start_time": "2023-07-01T18:15:39.077Z"
   },
   {
    "duration": 6,
    "start_time": "2023-07-01T18:15:39.225Z"
   },
   {
    "duration": 159,
    "start_time": "2023-07-01T18:15:39.233Z"
   },
   {
    "duration": 12,
    "start_time": "2023-07-01T18:15:39.393Z"
   },
   {
    "duration": 9,
    "start_time": "2023-07-01T18:15:39.406Z"
   },
   {
    "duration": 19,
    "start_time": "2023-07-01T18:15:39.417Z"
   },
   {
    "duration": 48,
    "start_time": "2023-07-01T18:15:39.438Z"
   },
   {
    "duration": 25,
    "start_time": "2023-07-01T18:15:39.488Z"
   },
   {
    "duration": 176,
    "start_time": "2023-07-01T18:15:39.515Z"
   },
   {
    "duration": 170,
    "start_time": "2023-07-01T18:15:39.693Z"
   },
   {
    "duration": 178,
    "start_time": "2023-07-01T18:15:39.865Z"
   },
   {
    "duration": 176,
    "start_time": "2023-07-01T18:15:40.045Z"
   },
   {
    "duration": 782,
    "start_time": "2023-07-01T18:15:40.223Z"
   },
   {
    "duration": 3,
    "start_time": "2023-07-01T18:15:41.006Z"
   },
   {
    "duration": 12,
    "start_time": "2023-07-01T18:15:41.010Z"
   },
   {
    "duration": 8,
    "start_time": "2023-07-01T18:15:41.023Z"
   },
   {
    "duration": 17,
    "start_time": "2023-07-01T18:15:41.032Z"
   },
   {
    "duration": 7,
    "start_time": "2023-07-01T18:15:41.051Z"
   },
   {
    "duration": 136,
    "start_time": "2023-07-01T18:15:41.060Z"
   },
   {
    "duration": 20,
    "start_time": "2023-07-01T18:15:41.198Z"
   },
   {
    "duration": 13,
    "start_time": "2023-07-01T18:15:41.225Z"
   },
   {
    "duration": 153,
    "start_time": "2023-07-01T18:16:23.654Z"
   },
   {
    "duration": 781,
    "start_time": "2023-07-01T18:19:01.063Z"
   },
   {
    "duration": 731,
    "start_time": "2023-07-01T18:20:45.125Z"
   },
   {
    "duration": 41,
    "start_time": "2023-07-01T18:21:25.632Z"
   },
   {
    "duration": 787,
    "start_time": "2023-07-01T18:21:29.096Z"
   },
   {
    "duration": 735,
    "start_time": "2023-07-01T18:21:37.081Z"
   },
   {
    "duration": 817,
    "start_time": "2023-07-01T18:21:49.348Z"
   },
   {
    "duration": 729,
    "start_time": "2023-07-01T18:22:06.981Z"
   },
   {
    "duration": 240,
    "start_time": "2023-07-01T18:24:48.781Z"
   },
   {
    "duration": 6,
    "start_time": "2023-07-01T18:27:21.455Z"
   },
   {
    "duration": 10,
    "start_time": "2023-07-01T18:35:47.621Z"
   },
   {
    "duration": 1426,
    "start_time": "2023-07-01T21:09:53.242Z"
   },
   {
    "duration": 112,
    "start_time": "2023-07-01T21:09:54.670Z"
   },
   {
    "duration": 12,
    "start_time": "2023-07-01T21:09:54.784Z"
   },
   {
    "duration": 302,
    "start_time": "2023-07-01T21:09:54.797Z"
   },
   {
    "duration": 13,
    "start_time": "2023-07-01T21:09:55.101Z"
   },
   {
    "duration": 205,
    "start_time": "2023-07-01T21:09:55.116Z"
   },
   {
    "duration": 10,
    "start_time": "2023-07-01T21:09:55.322Z"
   },
   {
    "duration": 347,
    "start_time": "2023-07-01T21:09:55.333Z"
   },
   {
    "duration": 12,
    "start_time": "2023-07-01T21:09:55.681Z"
   },
   {
    "duration": 70,
    "start_time": "2023-07-01T21:09:55.695Z"
   },
   {
    "duration": 7,
    "start_time": "2023-07-01T21:09:55.767Z"
   },
   {
    "duration": 310,
    "start_time": "2023-07-01T21:09:55.775Z"
   },
   {
    "duration": 11,
    "start_time": "2023-07-01T21:09:56.087Z"
   },
   {
    "duration": 26,
    "start_time": "2023-07-01T21:09:56.100Z"
   },
   {
    "duration": 17,
    "start_time": "2023-07-01T21:09:56.128Z"
   },
   {
    "duration": 7,
    "start_time": "2023-07-01T21:09:56.147Z"
   },
   {
    "duration": 13,
    "start_time": "2023-07-01T21:09:56.156Z"
   },
   {
    "duration": 7,
    "start_time": "2023-07-01T21:09:56.170Z"
   },
   {
    "duration": 12,
    "start_time": "2023-07-01T21:09:56.178Z"
   },
   {
    "duration": 6,
    "start_time": "2023-07-01T21:09:56.191Z"
   },
   {
    "duration": 9,
    "start_time": "2023-07-01T21:09:56.199Z"
   },
   {
    "duration": 6,
    "start_time": "2023-07-01T21:09:56.210Z"
   },
   {
    "duration": 4,
    "start_time": "2023-07-01T21:09:56.218Z"
   },
   {
    "duration": 45,
    "start_time": "2023-07-01T21:09:56.224Z"
   },
   {
    "duration": 145,
    "start_time": "2023-07-01T21:09:56.271Z"
   },
   {
    "duration": 5,
    "start_time": "2023-07-01T21:09:56.417Z"
   },
   {
    "duration": 94,
    "start_time": "2023-07-01T21:09:56.423Z"
   },
   {
    "duration": 4,
    "start_time": "2023-07-01T21:09:56.520Z"
   },
   {
    "duration": 224,
    "start_time": "2023-07-01T21:09:56.525Z"
   },
   {
    "duration": 4,
    "start_time": "2023-07-01T21:09:56.751Z"
   },
   {
    "duration": 148,
    "start_time": "2023-07-01T21:09:56.756Z"
   },
   {
    "duration": 4,
    "start_time": "2023-07-01T21:09:56.906Z"
   },
   {
    "duration": 147,
    "start_time": "2023-07-01T21:09:56.912Z"
   },
   {
    "duration": 17,
    "start_time": "2023-07-01T21:09:57.061Z"
   },
   {
    "duration": 9,
    "start_time": "2023-07-01T21:09:57.079Z"
   },
   {
    "duration": 16,
    "start_time": "2023-07-01T21:09:57.090Z"
   },
   {
    "duration": 21,
    "start_time": "2023-07-01T21:09:57.107Z"
   },
   {
    "duration": 46,
    "start_time": "2023-07-01T21:09:57.129Z"
   },
   {
    "duration": 195,
    "start_time": "2023-07-01T21:09:57.177Z"
   },
   {
    "duration": 179,
    "start_time": "2023-07-01T21:09:57.374Z"
   },
   {
    "duration": 189,
    "start_time": "2023-07-01T21:09:57.555Z"
   },
   {
    "duration": 164,
    "start_time": "2023-07-01T21:09:57.746Z"
   },
   {
    "duration": 798,
    "start_time": "2023-07-01T21:09:57.912Z"
   },
   {
    "duration": 4,
    "start_time": "2023-07-01T21:09:58.713Z"
   },
   {
    "duration": 11,
    "start_time": "2023-07-01T21:09:58.718Z"
   },
   {
    "duration": 8,
    "start_time": "2023-07-01T21:09:58.730Z"
   },
   {
    "duration": 33,
    "start_time": "2023-07-01T21:09:58.740Z"
   },
   {
    "duration": 24,
    "start_time": "2023-07-01T21:09:58.775Z"
   },
   {
    "duration": 144,
    "start_time": "2023-07-01T21:09:58.801Z"
   },
   {
    "duration": 23,
    "start_time": "2023-07-01T21:09:58.946Z"
   },
   {
    "duration": 6,
    "start_time": "2023-07-01T21:09:58.971Z"
   },
   {
    "duration": 770,
    "start_time": "2023-07-01T21:09:58.978Z"
   },
   {
    "duration": 6,
    "start_time": "2023-07-01T21:09:59.750Z"
   },
   {
    "duration": 10,
    "start_time": "2023-07-01T21:09:59.768Z"
   },
   {
    "duration": 55,
    "start_time": "2023-07-02T02:11:18.226Z"
   },
   {
    "duration": 55,
    "start_time": "2023-07-02T02:12:54.653Z"
   },
   {
    "duration": 6,
    "start_time": "2023-07-02T02:13:13.991Z"
   },
   {
    "duration": 49,
    "start_time": "2023-07-02T02:16:26.877Z"
   },
   {
    "duration": 1431,
    "start_time": "2023-07-02T02:16:52.012Z"
   },
   {
    "duration": 79,
    "start_time": "2023-07-02T02:16:53.449Z"
   },
   {
    "duration": 13,
    "start_time": "2023-07-02T02:16:53.530Z"
   },
   {
    "duration": 296,
    "start_time": "2023-07-02T02:16:53.545Z"
   },
   {
    "duration": 13,
    "start_time": "2023-07-02T02:16:53.842Z"
   },
   {
    "duration": 327,
    "start_time": "2023-07-02T02:16:53.858Z"
   },
   {
    "duration": 9,
    "start_time": "2023-07-02T02:16:54.187Z"
   },
   {
    "duration": 388,
    "start_time": "2023-07-02T02:16:54.197Z"
   },
   {
    "duration": 13,
    "start_time": "2023-07-02T02:16:54.587Z"
   },
   {
    "duration": 93,
    "start_time": "2023-07-02T02:16:54.602Z"
   },
   {
    "duration": 8,
    "start_time": "2023-07-02T02:16:54.697Z"
   },
   {
    "duration": 358,
    "start_time": "2023-07-02T02:16:54.707Z"
   },
   {
    "duration": 10,
    "start_time": "2023-07-02T02:16:55.066Z"
   },
   {
    "duration": 17,
    "start_time": "2023-07-02T02:16:55.077Z"
   },
   {
    "duration": 21,
    "start_time": "2023-07-02T02:16:55.096Z"
   },
   {
    "duration": 6,
    "start_time": "2023-07-02T02:16:55.118Z"
   },
   {
    "duration": 16,
    "start_time": "2023-07-02T02:16:55.125Z"
   },
   {
    "duration": 26,
    "start_time": "2023-07-02T02:16:55.145Z"
   },
   {
    "duration": 19,
    "start_time": "2023-07-02T02:16:55.172Z"
   },
   {
    "duration": 8,
    "start_time": "2023-07-02T02:16:55.193Z"
   },
   {
    "duration": 9,
    "start_time": "2023-07-02T02:16:55.203Z"
   },
   {
    "duration": 11,
    "start_time": "2023-07-02T02:16:55.213Z"
   },
   {
    "duration": 5,
    "start_time": "2023-07-02T02:16:55.225Z"
   },
   {
    "duration": 21,
    "start_time": "2023-07-02T02:16:55.239Z"
   },
   {
    "duration": 150,
    "start_time": "2023-07-02T02:16:55.264Z"
   },
   {
    "duration": 5,
    "start_time": "2023-07-02T02:16:55.416Z"
   },
   {
    "duration": 91,
    "start_time": "2023-07-02T02:16:55.422Z"
   },
   {
    "duration": 4,
    "start_time": "2023-07-02T02:16:55.517Z"
   },
   {
    "duration": 245,
    "start_time": "2023-07-02T02:16:55.522Z"
   },
   {
    "duration": 4,
    "start_time": "2023-07-02T02:16:55.769Z"
   },
   {
    "duration": 150,
    "start_time": "2023-07-02T02:16:55.774Z"
   },
   {
    "duration": 18,
    "start_time": "2023-07-02T02:16:55.925Z"
   },
   {
    "duration": 406,
    "start_time": "2023-07-02T02:16:55.944Z"
   },
   {
    "duration": 13,
    "start_time": "2023-07-02T02:16:56.352Z"
   },
   {
    "duration": 11,
    "start_time": "2023-07-02T02:16:56.366Z"
   },
   {
    "duration": 17,
    "start_time": "2023-07-02T02:16:56.378Z"
   },
   {
    "duration": 61,
    "start_time": "2023-07-02T02:16:56.397Z"
   },
   {
    "duration": 17,
    "start_time": "2023-07-02T02:16:56.460Z"
   },
   {
    "duration": 184,
    "start_time": "2023-07-02T02:16:56.479Z"
   },
   {
    "duration": 201,
    "start_time": "2023-07-02T02:16:56.665Z"
   },
   {
    "duration": 195,
    "start_time": "2023-07-02T02:16:56.868Z"
   },
   {
    "duration": 192,
    "start_time": "2023-07-02T02:16:57.065Z"
   },
   {
    "duration": 845,
    "start_time": "2023-07-02T02:16:57.260Z"
   },
   {
    "duration": 3,
    "start_time": "2023-07-02T02:16:58.107Z"
   },
   {
    "duration": 33,
    "start_time": "2023-07-02T02:16:58.111Z"
   },
   {
    "duration": 15,
    "start_time": "2023-07-02T02:16:58.153Z"
   },
   {
    "duration": 16,
    "start_time": "2023-07-02T02:16:58.169Z"
   },
   {
    "duration": 4,
    "start_time": "2023-07-02T02:16:58.187Z"
   },
   {
    "duration": 147,
    "start_time": "2023-07-02T02:16:58.192Z"
   },
   {
    "duration": 25,
    "start_time": "2023-07-02T02:16:58.342Z"
   },
   {
    "duration": 11,
    "start_time": "2023-07-02T02:16:58.369Z"
   },
   {
    "duration": 860,
    "start_time": "2023-07-02T02:16:58.382Z"
   },
   {
    "duration": 8,
    "start_time": "2023-07-02T02:16:59.244Z"
   },
   {
    "duration": 25,
    "start_time": "2023-07-02T02:16:59.253Z"
   },
   {
    "duration": 139,
    "start_time": "2023-07-02T02:18:47.472Z"
   },
   {
    "duration": 283,
    "start_time": "2023-07-02T02:18:59.184Z"
   },
   {
    "duration": 131,
    "start_time": "2023-07-02T02:19:21.506Z"
   },
   {
    "duration": 145,
    "start_time": "2023-07-02T02:19:38.414Z"
   },
   {
    "duration": 142,
    "start_time": "2023-07-02T02:20:01.436Z"
   },
   {
    "duration": 207,
    "start_time": "2023-07-02T02:20:05.785Z"
   },
   {
    "duration": 111,
    "start_time": "2023-07-02T02:20:15.026Z"
   },
   {
    "duration": 133,
    "start_time": "2023-07-02T02:20:21.661Z"
   },
   {
    "duration": 118,
    "start_time": "2023-07-02T02:20:28.453Z"
   },
   {
    "duration": 101,
    "start_time": "2023-07-02T02:20:38.019Z"
   },
   {
    "duration": 129,
    "start_time": "2023-07-02T02:20:41.648Z"
   },
   {
    "duration": 134,
    "start_time": "2023-07-02T02:20:45.990Z"
   },
   {
    "duration": 165,
    "start_time": "2023-07-02T02:20:53.055Z"
   },
   {
    "duration": 201,
    "start_time": "2023-07-02T02:20:56.757Z"
   },
   {
    "duration": 135,
    "start_time": "2023-07-02T02:21:08.764Z"
   },
   {
    "duration": 160,
    "start_time": "2023-07-02T02:23:50.128Z"
   },
   {
    "duration": 122,
    "start_time": "2023-07-02T02:24:04.156Z"
   },
   {
    "duration": 9,
    "start_time": "2023-07-02T02:24:16.988Z"
   },
   {
    "duration": 17,
    "start_time": "2023-07-02T02:24:25.654Z"
   },
   {
    "duration": 15,
    "start_time": "2023-07-02T02:24:33.663Z"
   },
   {
    "duration": 14,
    "start_time": "2023-07-02T02:25:45.305Z"
   },
   {
    "duration": 137,
    "start_time": "2023-07-02T02:25:59.033Z"
   },
   {
    "duration": 130,
    "start_time": "2023-07-02T02:26:11.462Z"
   },
   {
    "duration": 122,
    "start_time": "2023-07-02T02:26:26.950Z"
   },
   {
    "duration": 125,
    "start_time": "2023-07-02T02:26:30.856Z"
   },
   {
    "duration": 161,
    "start_time": "2023-07-02T02:26:33.310Z"
   },
   {
    "duration": 147,
    "start_time": "2023-07-02T02:26:40.998Z"
   },
   {
    "duration": 136,
    "start_time": "2023-07-02T02:26:48.263Z"
   },
   {
    "duration": 122,
    "start_time": "2023-07-02T02:26:53.105Z"
   },
   {
    "duration": 132,
    "start_time": "2023-07-02T02:27:00.802Z"
   },
   {
    "duration": 11,
    "start_time": "2023-07-02T02:27:12.357Z"
   },
   {
    "duration": 191,
    "start_time": "2023-07-02T02:27:17.292Z"
   },
   {
    "duration": 112,
    "start_time": "2023-07-02T02:27:26.695Z"
   },
   {
    "duration": 124,
    "start_time": "2023-07-02T02:27:29.373Z"
   },
   {
    "duration": 145,
    "start_time": "2023-07-02T02:27:53.823Z"
   },
   {
    "duration": 140,
    "start_time": "2023-07-02T02:28:19.653Z"
   },
   {
    "duration": 151,
    "start_time": "2023-07-02T02:28:52.168Z"
   },
   {
    "duration": 185,
    "start_time": "2023-07-02T02:31:24.638Z"
   },
   {
    "duration": 143,
    "start_time": "2023-07-02T02:31:36.683Z"
   },
   {
    "duration": 163,
    "start_time": "2023-07-02T02:32:05.294Z"
   },
   {
    "duration": 138,
    "start_time": "2023-07-02T02:32:12.158Z"
   },
   {
    "duration": 162,
    "start_time": "2023-07-02T02:32:19.916Z"
   },
   {
    "duration": 3,
    "start_time": "2023-07-02T02:35:15.416Z"
   },
   {
    "duration": 8,
    "start_time": "2023-07-02T02:35:23.111Z"
   },
   {
    "duration": 4,
    "start_time": "2023-07-02T02:35:26.165Z"
   },
   {
    "duration": 4,
    "start_time": "2023-07-02T02:35:41.106Z"
   },
   {
    "duration": 3,
    "start_time": "2023-07-02T02:36:02.601Z"
   },
   {
    "duration": 5,
    "start_time": "2023-07-02T02:36:09.309Z"
   },
   {
    "duration": 4,
    "start_time": "2023-07-02T02:36:15.289Z"
   },
   {
    "duration": 4,
    "start_time": "2023-07-02T02:36:22.656Z"
   },
   {
    "duration": 3,
    "start_time": "2023-07-02T02:36:28.999Z"
   },
   {
    "duration": 4,
    "start_time": "2023-07-02T02:37:15.504Z"
   },
   {
    "duration": 4,
    "start_time": "2023-07-02T02:37:22.702Z"
   },
   {
    "duration": 5,
    "start_time": "2023-07-02T02:37:26.745Z"
   },
   {
    "duration": 3,
    "start_time": "2023-07-02T02:37:36.017Z"
   },
   {
    "duration": 7,
    "start_time": "2023-07-02T02:38:48.551Z"
   },
   {
    "duration": 6,
    "start_time": "2023-07-02T02:38:54.664Z"
   },
   {
    "duration": 4,
    "start_time": "2023-07-02T02:39:15.283Z"
   },
   {
    "duration": 3,
    "start_time": "2023-07-02T02:39:33.878Z"
   },
   {
    "duration": 4,
    "start_time": "2023-07-02T02:40:00.560Z"
   },
   {
    "duration": 26,
    "start_time": "2023-07-02T02:41:25.170Z"
   },
   {
    "duration": 6,
    "start_time": "2023-07-02T02:46:11.496Z"
   },
   {
    "duration": 4,
    "start_time": "2023-07-02T02:48:41.180Z"
   },
   {
    "duration": 5,
    "start_time": "2023-07-02T02:48:50.476Z"
   },
   {
    "duration": 13,
    "start_time": "2023-07-02T02:48:58.831Z"
   },
   {
    "duration": 128,
    "start_time": "2023-07-02T03:04:32.458Z"
   },
   {
    "duration": 1204,
    "start_time": "2023-07-02T03:05:18.321Z"
   },
   {
    "duration": 47,
    "start_time": "2023-07-02T03:05:19.527Z"
   },
   {
    "duration": 15,
    "start_time": "2023-07-02T03:05:19.576Z"
   },
   {
    "duration": 293,
    "start_time": "2023-07-02T03:05:19.593Z"
   },
   {
    "duration": 10,
    "start_time": "2023-07-02T03:05:19.888Z"
   },
   {
    "duration": 41,
    "start_time": "2023-07-02T03:05:19.900Z"
   },
   {
    "duration": 10,
    "start_time": "2023-07-02T03:05:19.948Z"
   },
   {
    "duration": 324,
    "start_time": "2023-07-02T03:05:19.960Z"
   },
   {
    "duration": 10,
    "start_time": "2023-07-02T03:05:20.286Z"
   },
   {
    "duration": 30,
    "start_time": "2023-07-02T03:05:20.298Z"
   },
   {
    "duration": 56,
    "start_time": "2023-07-02T03:05:20.330Z"
   },
   {
    "duration": 330,
    "start_time": "2023-07-02T03:05:20.388Z"
   },
   {
    "duration": 22,
    "start_time": "2023-07-02T03:05:20.719Z"
   },
   {
    "duration": 32,
    "start_time": "2023-07-02T03:05:20.743Z"
   },
   {
    "duration": 8,
    "start_time": "2023-07-02T03:05:20.778Z"
   },
   {
    "duration": 5,
    "start_time": "2023-07-02T03:05:20.788Z"
   },
   {
    "duration": 13,
    "start_time": "2023-07-02T03:05:20.794Z"
   },
   {
    "duration": 12,
    "start_time": "2023-07-02T03:05:20.809Z"
   },
   {
    "duration": 18,
    "start_time": "2023-07-02T03:05:20.823Z"
   },
   {
    "duration": 24,
    "start_time": "2023-07-02T03:05:20.842Z"
   },
   {
    "duration": 18,
    "start_time": "2023-07-02T03:05:20.867Z"
   },
   {
    "duration": 7,
    "start_time": "2023-07-02T03:05:20.887Z"
   },
   {
    "duration": 4,
    "start_time": "2023-07-02T03:05:20.896Z"
   },
   {
    "duration": 11,
    "start_time": "2023-07-02T03:05:20.901Z"
   },
   {
    "duration": 164,
    "start_time": "2023-07-02T03:05:20.913Z"
   },
   {
    "duration": 5,
    "start_time": "2023-07-02T03:05:21.079Z"
   },
   {
    "duration": 99,
    "start_time": "2023-07-02T03:05:21.086Z"
   },
   {
    "duration": 4,
    "start_time": "2023-07-02T03:05:21.188Z"
   },
   {
    "duration": 231,
    "start_time": "2023-07-02T03:05:21.194Z"
   },
   {
    "duration": 17,
    "start_time": "2023-07-02T03:05:21.426Z"
   },
   {
    "duration": 155,
    "start_time": "2023-07-02T03:05:21.451Z"
   },
   {
    "duration": 4,
    "start_time": "2023-07-02T03:05:21.608Z"
   },
   {
    "duration": 189,
    "start_time": "2023-07-02T03:05:21.613Z"
   },
   {
    "duration": 4,
    "start_time": "2023-07-02T03:05:21.803Z"
   },
   {
    "duration": 13,
    "start_time": "2023-07-02T03:05:21.808Z"
   },
   {
    "duration": 36,
    "start_time": "2023-07-02T03:05:21.822Z"
   },
   {
    "duration": 24,
    "start_time": "2023-07-02T03:05:21.861Z"
   },
   {
    "duration": 16,
    "start_time": "2023-07-02T03:05:21.887Z"
   },
   {
    "duration": 8,
    "start_time": "2023-07-02T03:05:21.904Z"
   },
   {
    "duration": 35,
    "start_time": "2023-07-02T03:05:21.913Z"
   },
   {
    "duration": 39,
    "start_time": "2023-07-02T03:05:21.949Z"
   },
   {
    "duration": 19,
    "start_time": "2023-07-02T03:05:21.989Z"
   },
   {
    "duration": 176,
    "start_time": "2023-07-02T03:05:22.010Z"
   },
   {
    "duration": 182,
    "start_time": "2023-07-02T03:05:22.187Z"
   },
   {
    "duration": 196,
    "start_time": "2023-07-02T03:05:22.370Z"
   },
   {
    "duration": 181,
    "start_time": "2023-07-02T03:05:22.568Z"
   },
   {
    "duration": 858,
    "start_time": "2023-07-02T03:05:22.755Z"
   },
   {
    "duration": 3,
    "start_time": "2023-07-02T03:05:23.614Z"
   },
   {
    "duration": 48,
    "start_time": "2023-07-02T03:05:23.619Z"
   },
   {
    "duration": 18,
    "start_time": "2023-07-02T03:05:23.669Z"
   },
   {
    "duration": 12,
    "start_time": "2023-07-02T03:05:23.688Z"
   },
   {
    "duration": 20,
    "start_time": "2023-07-02T03:05:23.702Z"
   },
   {
    "duration": 5,
    "start_time": "2023-07-02T03:05:23.724Z"
   },
   {
    "duration": 211,
    "start_time": "2023-07-02T03:05:23.731Z"
   },
   {
    "duration": 33,
    "start_time": "2023-07-02T03:05:23.945Z"
   },
   {
    "duration": 5,
    "start_time": "2023-07-02T03:05:23.980Z"
   },
   {
    "duration": 1021,
    "start_time": "2023-07-02T03:05:23.986Z"
   },
   {
    "duration": 5,
    "start_time": "2023-07-02T03:05:25.008Z"
   },
   {
    "duration": 65,
    "start_time": "2023-07-02T03:05:25.015Z"
   },
   {
    "duration": 1708,
    "start_time": "2023-07-02T20:09:51.899Z"
   },
   {
    "duration": 34,
    "start_time": "2023-07-02T20:09:53.610Z"
   },
   {
    "duration": 35,
    "start_time": "2023-07-02T20:09:53.646Z"
   },
   {
    "duration": 516,
    "start_time": "2023-07-02T20:09:53.687Z"
   },
   {
    "duration": 20,
    "start_time": "2023-07-02T20:09:54.211Z"
   },
   {
    "duration": 148,
    "start_time": "2023-07-02T20:09:54.233Z"
   },
   {
    "duration": 27,
    "start_time": "2023-07-02T20:09:54.395Z"
   },
   {
    "duration": 465,
    "start_time": "2023-07-02T20:09:54.426Z"
   },
   {
    "duration": 22,
    "start_time": "2023-07-02T20:09:54.896Z"
   },
   {
    "duration": 85,
    "start_time": "2023-07-02T20:09:54.926Z"
   },
   {
    "duration": 13,
    "start_time": "2023-07-02T20:09:55.013Z"
   },
   {
    "duration": 605,
    "start_time": "2023-07-02T20:09:55.028Z"
   },
   {
    "duration": 22,
    "start_time": "2023-07-02T20:09:55.635Z"
   },
   {
    "duration": 56,
    "start_time": "2023-07-02T20:09:55.673Z"
   },
   {
    "duration": 13,
    "start_time": "2023-07-02T20:09:55.731Z"
   },
   {
    "duration": 18,
    "start_time": "2023-07-02T20:09:55.746Z"
   },
   {
    "duration": 64,
    "start_time": "2023-07-02T20:09:55.769Z"
   },
   {
    "duration": 12,
    "start_time": "2023-07-02T20:09:55.835Z"
   },
   {
    "duration": 84,
    "start_time": "2023-07-02T20:09:55.849Z"
   },
   {
    "duration": 61,
    "start_time": "2023-07-02T20:09:55.935Z"
   },
   {
    "duration": 44,
    "start_time": "2023-07-02T20:09:55.998Z"
   },
   {
    "duration": 83,
    "start_time": "2023-07-02T20:09:56.045Z"
   },
   {
    "duration": 7,
    "start_time": "2023-07-02T20:09:56.130Z"
   },
   {
    "duration": 10,
    "start_time": "2023-07-02T20:09:56.139Z"
   },
   {
    "duration": 261,
    "start_time": "2023-07-02T20:09:56.152Z"
   },
   {
    "duration": 7,
    "start_time": "2023-07-02T20:09:56.414Z"
   },
   {
    "duration": 162,
    "start_time": "2023-07-02T20:09:56.423Z"
   },
   {
    "duration": 10,
    "start_time": "2023-07-02T20:09:56.595Z"
   },
   {
    "duration": 354,
    "start_time": "2023-07-02T20:09:56.613Z"
   },
   {
    "duration": 11,
    "start_time": "2023-07-02T20:09:56.972Z"
   },
   {
    "duration": 242,
    "start_time": "2023-07-02T20:09:56.986Z"
   },
   {
    "duration": 7,
    "start_time": "2023-07-02T20:09:57.231Z"
   },
   {
    "duration": 209,
    "start_time": "2023-07-02T20:09:57.240Z"
   },
   {
    "duration": 16,
    "start_time": "2023-07-02T20:09:57.452Z"
   },
   {
    "duration": 58,
    "start_time": "2023-07-02T20:09:57.478Z"
   },
   {
    "duration": 10,
    "start_time": "2023-07-02T20:09:57.538Z"
   },
   {
    "duration": 78,
    "start_time": "2023-07-02T20:09:57.550Z"
   },
   {
    "duration": 17,
    "start_time": "2023-07-02T20:09:57.630Z"
   },
   {
    "duration": 13,
    "start_time": "2023-07-02T20:09:57.650Z"
   },
   {
    "duration": 69,
    "start_time": "2023-07-02T20:09:57.672Z"
   },
   {
    "duration": 76,
    "start_time": "2023-07-02T20:09:57.743Z"
   },
   {
    "duration": 24,
    "start_time": "2023-07-02T20:09:57.823Z"
   },
   {
    "duration": 285,
    "start_time": "2023-07-02T20:09:57.849Z"
   },
   {
    "duration": 324,
    "start_time": "2023-07-02T20:09:58.137Z"
   },
   {
    "duration": 346,
    "start_time": "2023-07-02T20:09:58.467Z"
   },
   {
    "duration": 317,
    "start_time": "2023-07-02T20:09:58.816Z"
   },
   {
    "duration": 1569,
    "start_time": "2023-07-02T20:09:59.143Z"
   },
   {
    "duration": 5,
    "start_time": "2023-07-02T20:10:00.719Z"
   },
   {
    "duration": 115,
    "start_time": "2023-07-02T20:10:00.730Z"
   },
   {
    "duration": 85,
    "start_time": "2023-07-02T20:10:00.847Z"
   },
   {
    "duration": 53,
    "start_time": "2023-07-02T20:10:00.935Z"
   },
   {
    "duration": 56,
    "start_time": "2023-07-02T20:10:00.990Z"
   },
   {
    "duration": 94,
    "start_time": "2023-07-02T20:10:01.049Z"
   },
   {
    "duration": 311,
    "start_time": "2023-07-02T20:10:01.145Z"
   },
   {
    "duration": 27,
    "start_time": "2023-07-02T20:10:01.458Z"
   },
   {
    "duration": 87,
    "start_time": "2023-07-02T20:10:01.487Z"
   },
   {
    "duration": 1392,
    "start_time": "2023-07-02T20:10:01.576Z"
   },
   {
    "duration": 27,
    "start_time": "2023-07-02T20:10:02.972Z"
   },
   {
    "duration": 116,
    "start_time": "2023-07-02T20:10:03.005Z"
   }
  ],
  "kernelspec": {
   "display_name": "Python 3 (ipykernel)",
   "language": "python",
   "name": "python3"
  },
  "language_info": {
   "codemirror_mode": {
    "name": "ipython",
    "version": 3
   },
   "file_extension": ".py",
   "mimetype": "text/x-python",
   "name": "python",
   "nbconvert_exporter": "python",
   "pygments_lexer": "ipython3",
   "version": "3.9.5"
  },
  "toc": {
   "base_numbering": 1,
   "nav_menu": {},
   "number_sections": true,
   "sideBar": true,
   "skip_h1_title": true,
   "title_cell": "Table of Contents",
   "title_sidebar": "Contents",
   "toc_cell": false,
   "toc_position": {
    "height": "calc(100% - 180px)",
    "left": "10px",
    "top": "150px",
    "width": "165px"
   },
   "toc_section_display": true,
   "toc_window_display": true
  }
 },
 "nbformat": 4,
 "nbformat_minor": 5
}
